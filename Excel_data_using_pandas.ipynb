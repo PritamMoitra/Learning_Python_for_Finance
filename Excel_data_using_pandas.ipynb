{
  "nbformat": 4,
  "nbformat_minor": 0,
  "metadata": {
    "colab": {
      "provenance": []
    },
    "kernelspec": {
      "name": "python3",
      "display_name": "Python 3"
    },
    "language_info": {
      "name": "python"
    }
  },
  "cells": [
    {
      "cell_type": "markdown",
      "source": [
        "Importing necessary libraries"
      ],
      "metadata": {
        "id": "2CGbvkvRe45X"
      }
    },
    {
      "cell_type": "code",
      "execution_count": 1,
      "metadata": {
        "id": "nL_JpHCRei9H"
      },
      "outputs": [],
      "source": [
        "import pandas as pd\n",
        "import yfinance as yf"
      ]
    },
    {
      "cell_type": "markdown",
      "source": [
        "Download Stock Data"
      ],
      "metadata": {
        "id": "YhiQGLKvfxdP"
      }
    },
    {
      "cell_type": "code",
      "source": [
        "df=yf.download(tickers=['ITC.NS','ARE&M.NS','CAPLIPOINT.NS'],period='3y',interval='1mo')"
      ],
      "metadata": {
        "colab": {
          "base_uri": "https://localhost:8080/"
        },
        "id": "XkBC6kRsfA0e",
        "outputId": "3944ac65-ca19-480e-e96e-fbd222890b07"
      },
      "execution_count": 2,
      "outputs": [
        {
          "output_type": "stream",
          "name": "stderr",
          "text": [
            "[*********************100%***********************]  3 of 3 completed\n"
          ]
        }
      ]
    },
    {
      "cell_type": "markdown",
      "source": [
        "save to excel"
      ],
      "metadata": {
        "id": "wW1VHWDef5AW"
      }
    },
    {
      "cell_type": "code",
      "source": [
        "df.to_excel('stock_data.xlsx',sheet_name='Stocks3y1mo')"
      ],
      "metadata": {
        "id": "77vfALE2f7JA"
      },
      "execution_count": 3,
      "outputs": []
    },
    {
      "cell_type": "markdown",
      "source": [
        "read excel file with date as index and skip 3rd rows"
      ],
      "metadata": {
        "id": "uXgFBcPxgIgs"
      }
    },
    {
      "cell_type": "code",
      "source": [
        "df_xlsx=pd.read_excel('stock_data.xlsx',index_col=0,header=[0,1],skiprows=[2])"
      ],
      "metadata": {
        "id": "5DjOCzVBgrbW"
      },
      "execution_count": 5,
      "outputs": []
    },
    {
      "cell_type": "markdown",
      "source": [
        "rename index column to'Date'"
      ],
      "metadata": {
        "id": "5TtM_bP5hHGr"
      }
    },
    {
      "cell_type": "code",
      "source": [
        "df_xlsx.index.name='Date'"
      ],
      "metadata": {
        "id": "ENIMzI2ThKvq"
      },
      "execution_count": 6,
      "outputs": []
    },
    {
      "cell_type": "markdown",
      "source": [
        "convert close column to float32 data type"
      ],
      "metadata": {
        "id": "EGlArQlJhV4T"
      }
    },
    {
      "cell_type": "code",
      "source": [
        "df_xlsx['Close']=df_xlsx['Close'].astype('float32')"
      ],
      "metadata": {
        "id": "KZKIyFhyhbDt"
      },
      "execution_count": 7,
      "outputs": []
    },
    {
      "cell_type": "markdown",
      "source": [
        "display info and table head"
      ],
      "metadata": {
        "id": "iqfLHwvehunb"
      }
    },
    {
      "cell_type": "code",
      "source": [
        "print(df_xlsx.info())\n",
        "print(df_xlsx.head())"
      ],
      "metadata": {
        "colab": {
          "base_uri": "https://localhost:8080/"
        },
        "id": "-OkvvNbThyP4",
        "outputId": "d4279330-0b07-4489-c704-87f13280f27d"
      },
      "execution_count": 8,
      "outputs": [
        {
          "output_type": "stream",
          "name": "stdout",
          "text": [
            "<class 'pandas.core.frame.DataFrame'>\n",
            "DatetimeIndex: 36 entries, 2022-02-01 to 2025-01-01\n",
            "Data columns (total 15 columns):\n",
            " #   Column                   Non-Null Count  Dtype  \n",
            "---  ------                   --------------  -----  \n",
            " 0   (Close, ARE&M.NS)        15 non-null     float32\n",
            " 1   (Close, CAPLIPOINT.NS)   36 non-null     float32\n",
            " 2   (Close, ITC.NS)          36 non-null     float32\n",
            " 3   (High, ARE&M.NS)         15 non-null     float64\n",
            " 4   (High, CAPLIPOINT.NS)    36 non-null     float64\n",
            " 5   (High, ITC.NS)           36 non-null     float64\n",
            " 6   (Low, ARE&M.NS)          15 non-null     float64\n",
            " 7   (Low, CAPLIPOINT.NS)     36 non-null     float64\n",
            " 8   (Low, ITC.NS)            36 non-null     float64\n",
            " 9   (Open, ARE&M.NS)         15 non-null     float64\n",
            " 10  (Open, CAPLIPOINT.NS)    36 non-null     float64\n",
            " 11  (Open, ITC.NS)           36 non-null     float64\n",
            " 12  (Volume, ARE&M.NS)       15 non-null     float64\n",
            " 13  (Volume, CAPLIPOINT.NS)  36 non-null     int64  \n",
            " 14  (Volume, ITC.NS)         36 non-null     int64  \n",
            "dtypes: float32(3), float64(10), int64(2)\n",
            "memory usage: 4.1 KB\n",
            "None\n",
            "Price         Close                               High                \\\n",
            "Ticker     ARE&M.NS CAPLIPOINT.NS      ITC.NS ARE&M.NS CAPLIPOINT.NS   \n",
            "Date                                                                   \n",
            "2022-02-01      NaN    658.202332  195.312790      NaN    834.591071   \n",
            "2022-03-01      NaN    669.053955  232.042496      NaN    744.522293   \n",
            "2022-04-01      NaN    694.900635  240.281784      NaN    818.806796   \n",
            "2022-05-01      NaN    732.141541  250.557770      NaN    803.022562   \n",
            "2022-06-01      NaN    702.629089  259.135315      NaN    780.369274   \n",
            "\n",
            "Price                       Low                               Open  \\\n",
            "Ticker          ITC.NS ARE&M.NS CAPLIPOINT.NS      ITC.NS ARE&M.NS   \n",
            "Date                                                                 \n",
            "2022-02-01  215.807733      NaN    641.234274  187.304825      NaN   \n",
            "2022-03-01  238.846860      NaN    651.099384  196.678351      NaN   \n",
            "2022-04-01  252.872167      NaN    668.511380  230.329846      NaN   \n",
            "2022-05-01  261.389209      NaN    617.557892  230.653864      NaN   \n",
            "2022-06-01  261.314503      NaN    624.097607  244.970503      NaN   \n",
            "\n",
            "Price                                  Volume                           \n",
            "Ticker     CAPLIPOINT.NS      ITC.NS ARE&M.NS CAPLIPOINT.NS     ITC.NS  \n",
            "Date                                                                    \n",
            "2022-02-01    781.319300  199.972784      NaN       1638504  466265620  \n",
            "2022-03-01    658.202299  199.825954      NaN       2316308  699286936  \n",
            "2022-04-01    674.183836  231.440758      NaN       2162667  443042094  \n",
            "2022-05-01    694.456686  238.846873      NaN       2923268  462384362  \n",
            "2022-06-01    733.388868  256.434996      NaN       1026050  263357060  \n"
          ]
        }
      ]
    }
  ]
}