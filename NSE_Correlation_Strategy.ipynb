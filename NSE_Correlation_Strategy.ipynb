{
  "nbformat": 4,
  "nbformat_minor": 0,
  "metadata": {
    "colab": {
      "provenance": [],
      "authorship_tag": "ABX9TyNsAbGgh8qIupjuV+BlBFWZ",
      "include_colab_link": true
    },
    "kernelspec": {
      "name": "python3",
      "display_name": "Python 3"
    },
    "language_info": {
      "name": "python"
    }
  },
  "cells": [
    {
      "cell_type": "markdown",
      "metadata": {
        "id": "view-in-github",
        "colab_type": "text"
      },
      "source": [
        "<a href=\"https://colab.research.google.com/github/PritamMoitra/Learning_Python_for_Finance/blob/main/NSE_Correlation_Strategy.ipynb\" target=\"_parent\"><img src=\"https://colab.research.google.com/assets/colab-badge.svg\" alt=\"Open In Colab\"/></a>"
      ]
    },
    {
      "cell_type": "code",
      "execution_count": null,
      "metadata": {
        "id": "Mk3q5sqwNH79"
      },
      "outputs": [],
      "source": [
        "import yfinance as yf\n",
        "import pandas as pd\n"
      ]
    },
    {
      "cell_type": "code",
      "source": [
        "df=yf.download(\n",
        "    ['^NSEI',\n",
        "     'RELIANCE.NS','WIPRO.NS','TATASTEEL.NS','TATACONSUM.NS','SBILIFE.NS',\n",
        "     'LT.NS','TCS.NS','BHARTIARTL.NS','ITC.NS','NESTLEIND.NS',\n",
        "     'ULTRACEMCO.NS','HDFCLIFE.NS','JIOFIN.NS','BAJAJ-AUTO.NS','ONGC.NS',\n",
        "     'CIPLA.NS','APOLLOHOSP.NS','COALINDIA.NS','ADANIENT.NS','NTPC.NS',\n",
        "     'TITAN.NS','KOTAKBANK.NS','TRENT.NS','HINDALCO.NS','HEROMOTOCO.NS',\n",
        "     'BAJAJFINSV.NS','INDUSINDBK.NS','MARUTI.NS','BAJFINANCE.NS','SHRIRAMFIN.NS',\n",
        "     'ETERNAL.NS','ASIANPAINT.NS','AXISBANK.NS','BEL.NS','COALINDIA.NS',\n",
        "     'DRREDDY.NS','EICHERMOT.NS','GRASIM.NS','HCLTECH.NS','HDFCBANK.NS',\n",
        "     'HINDUNILVR.NS','ICICIBANK.NS','INFY.NS','JSWSTEEL.NS','M&M.NS',\n",
        "     'MARUTI.NS','ADANIPORTS.NS','POWERGRID.NS','SBIN.NS','SUNPHARMA.NS',\n",
        "     'TATAMOTORS.NS','TECHM.NS'],\n",
        "      start='2025-06-06',\n",
        "      end='2025-06-07',\n",
        "      interval='5m'\n",
        ")\n",
        "df.info()"
      ],
      "metadata": {
        "colab": {
          "base_uri": "https://localhost:8080/"
        },
        "id": "wN5nfGh4OVja",
        "outputId": "3a91b6aa-87fc-4a76-db8c-181b3d9e4fa7"
      },
      "execution_count": null,
      "outputs": [
        {
          "output_type": "stream",
          "name": "stderr",
          "text": [
            "[*********************100%***********************]  51 of 51 completed\n"
          ]
        },
        {
          "output_type": "stream",
          "name": "stdout",
          "text": [
            "<class 'pandas.core.frame.DataFrame'>\n",
            "DatetimeIndex: 75 entries, 2025-06-06 03:45:00+00:00 to 2025-06-06 09:55:00+00:00\n",
            "Columns: 255 entries, ('Close', 'ADANIENT.NS') to ('Volume', '^NSEI')\n",
            "dtypes: float64(204), int64(51)\n",
            "memory usage: 150.0 KB\n"
          ]
        }
      ]
    },
    {
      "cell_type": "code",
      "source": [
        "close_prices_df=df['Close']\n",
        "pct_change_df = close_prices_df.pct_change().dropna()\n",
        "first_hour_pct_change = pct_change_df.iloc[:12]\n",
        "rest_of_day_pct_change = pct_change_df.iloc[12:]\n",
        "\n",
        "\n"
      ],
      "metadata": {
        "id": "eJmP7IF8P5b2"
      },
      "execution_count": null,
      "outputs": []
    },
    {
      "cell_type": "code",
      "source": [
        "def compute_correlations(segment_df):\n",
        "    index_pct_change = segment_df['^NSEI']\n",
        "    correlations = {}\n",
        "    for col in segment_df.columns:\n",
        "        if col == '^NSEI':\n",
        "            continue\n",
        "        corr = segment_df[col].corr(index_pct_change)\n",
        "        correlations[col] = corr\n",
        "    return pd.DataFrame(list(correlations.items()), columns=['Stock', 'Correlation_with_Index_Pct_Change'])\n"
      ],
      "metadata": {
        "id": "qFxmZmj8h_WQ"
      },
      "execution_count": null,
      "outputs": []
    },
    {
      "cell_type": "code",
      "source": [
        "first_hour_corr_df = compute_correlations(first_hour_pct_change)\n",
        "rest_of_day_corr_df = compute_correlations(rest_of_day_pct_change)\n",
        "entire_day_corr_df = compute_correlations(pct_change_df)\n",
        "first_hour_corr_df = first_hour_corr_df.sort_values(by='Correlation_with_Index_Pct_Change', ascending=False)\n",
        "rest_of_day_corr_df = rest_of_day_corr_df.sort_values(by='Correlation_with_Index_Pct_Change', ascending=False)\n",
        "entire_day_corr_df = entire_day_corr_df.sort_values(by='Correlation_with_Index_Pct_Change', ascending=False)"
      ],
      "metadata": {
        "id": "rOmZKenwiFSL"
      },
      "execution_count": null,
      "outputs": []
    },
    {
      "cell_type": "code",
      "source": [
        "print(\"=== First 1 Hour Correlations ===\")\n",
        "print(first_hour_corr_df[first_hour_corr_df['Correlation_with_Index_Pct_Change']>0.7])\n",
        "\n",
        "print(\"\\n=== Rest of Day Correlations ===\")\n",
        "print(rest_of_day_corr_df[rest_of_day_corr_df['Correlation_with_Index_Pct_Change']>0.5])\n",
        "\n",
        "print(\"\\n=== Entire Day Correlations ===\")\n",
        "print(entire_day_corr_df[entire_day_corr_df['Correlation_with_Index_Pct_Change']>0.7])"
      ],
      "metadata": {
        "colab": {
          "base_uri": "https://localhost:8080/"
        },
        "id": "YLgSBdc3iP7u",
        "outputId": "f609bd23-5ce5-47f0-99c0-601a2d76645d"
      },
      "execution_count": null,
      "outputs": [
        {
          "output_type": "stream",
          "name": "stdout",
          "text": [
            "=== First 1 Hour Correlations ===\n",
            "            Stock  Correlation_with_Index_Pct_Change\n",
            "34        ONGC.NS                           0.957153\n",
            "36    RELIANCE.NS                           0.949942\n",
            "26      JIOFIN.NS                           0.941333\n",
            "6   BAJAJFINSV.NS                           0.910028\n",
            "7   BAJFINANCE.NS                           0.901548\n",
            "45       TECHM.NS                           0.899879\n",
            "22   ICICIBANK.NS                           0.894675\n",
            "48  ULTRACEMCO.NS                           0.888118\n",
            "43   TATASTEEL.NS                           0.885590\n",
            "20    HINDALCO.NS                           0.881667\n",
            "17    HDFCBANK.NS                           0.879280\n",
            "46       TITAN.NS                           0.875157\n",
            "42  TATAMOTORS.NS                           0.863860\n",
            "32   NESTLEIND.NS                           0.863603\n",
            "41  TATACONSUM.NS                           0.857173\n",
            "33        NTPC.NS                           0.855485\n",
            "4     AXISBANK.NS                           0.846217\n",
            "44         TCS.NS                           0.841906\n",
            "30         M&M.NS                           0.841763\n",
            "29          LT.NS                           0.840746\n",
            "38        SBIN.NS                           0.832319\n",
            "5   BAJAJ-AUTO.NS                           0.830869\n",
            "24        INFY.NS                           0.825116\n",
            "0     ADANIENT.NS                           0.824047\n",
            "27    JSWSTEEL.NS                           0.811992\n",
            "9   BHARTIARTL.NS                           0.809191\n",
            "21  HINDUNILVR.NS                           0.806248\n",
            "10       CIPLA.NS                           0.800675\n",
            "37     SBILIFE.NS                           0.789989\n",
            "2   APOLLOHOSP.NS                           0.785919\n",
            "39  SHRIRAMFIN.NS                           0.771647\n",
            "12     DRREDDY.NS                           0.766925\n",
            "31      MARUTI.NS                           0.765717\n",
            "19  HEROMOTOCO.NS                           0.761361\n",
            "49       WIPRO.NS                           0.745200\n",
            "16     HCLTECH.NS                           0.744509\n",
            "40   SUNPHARMA.NS                           0.740373\n",
            "15      GRASIM.NS                           0.731362\n",
            "25         ITC.NS                           0.729175\n",
            "11   COALINDIA.NS                           0.725473\n",
            "3   ASIANPAINT.NS                           0.722682\n",
            "13   EICHERMOT.NS                           0.720327\n",
            "\n",
            "=== Rest of Day Correlations ===\n",
            "            Stock  Correlation_with_Index_Pct_Change\n",
            "22   ICICIBANK.NS                           0.695230\n",
            "4     AXISBANK.NS                           0.694194\n",
            "17    HDFCBANK.NS                           0.641602\n",
            "7   BAJFINANCE.NS                           0.622188\n",
            "29          LT.NS                           0.603537\n",
            "49       WIPRO.NS                           0.545841\n",
            "39  SHRIRAMFIN.NS                           0.544829\n",
            "15      GRASIM.NS                           0.544401\n",
            "28   KOTAKBANK.NS                           0.541328\n",
            "26      JIOFIN.NS                           0.538262\n",
            "42  TATAMOTORS.NS                           0.536770\n",
            "6   BAJAJFINSV.NS                           0.535421\n",
            "1   ADANIPORTS.NS                           0.532716\n",
            "48  ULTRACEMCO.NS                           0.532053\n",
            "0     ADANIENT.NS                           0.513625\n",
            "\n",
            "=== Entire Day Correlations ===\n",
            "            Stock  Correlation_with_Index_Pct_Change\n",
            "22   ICICIBANK.NS                           0.747052\n",
            "29          LT.NS                           0.741094\n",
            "36    RELIANCE.NS                           0.729309\n",
            "26      JIOFIN.NS                           0.723072\n",
            "48  ULTRACEMCO.NS                           0.722143\n",
            "42  TATAMOTORS.NS                           0.706676\n",
            "45       TECHM.NS                           0.700390\n"
          ]
        }
      ]
    }
  ]
}