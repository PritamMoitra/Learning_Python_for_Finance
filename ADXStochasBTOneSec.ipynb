{
  "nbformat": 4,
  "nbformat_minor": 0,
  "metadata": {
    "colab": {
      "provenance": [],
      "authorship_tag": "ABX9TyPLn0TzaH071fVqOXmYL2KT",
      "include_colab_link": true
    },
    "kernelspec": {
      "name": "python3",
      "display_name": "Python 3"
    },
    "language_info": {
      "name": "python"
    }
  },
  "cells": [
    {
      "cell_type": "markdown",
      "metadata": {
        "id": "view-in-github",
        "colab_type": "text"
      },
      "source": [
        "<a href=\"https://colab.research.google.com/github/PritamMoitra/Learning_Python_for_Finance/blob/main/ADXStochasBTOneSec.ipynb\" target=\"_parent\"><img src=\"https://colab.research.google.com/assets/colab-badge.svg\" alt=\"Open In Colab\"/></a>"
      ]
    },
    {
      "cell_type": "code",
      "execution_count": null,
      "metadata": {
        "id": "f5KujlsX5t0V",
        "colab": {
          "base_uri": "https://localhost:8080/"
        },
        "outputId": "90d3e3fd-d1e3-4ba3-da1b-eee0a4904d35"
      },
      "outputs": [
        {
          "output_type": "stream",
          "name": "stdout",
          "text": [
            "Requirement already satisfied: ta in /usr/local/lib/python3.11/dist-packages (0.11.0)\n",
            "Requirement already satisfied: numpy in /usr/local/lib/python3.11/dist-packages (from ta) (2.0.2)\n",
            "Requirement already satisfied: pandas in /usr/local/lib/python3.11/dist-packages (from ta) (2.2.2)\n",
            "Requirement already satisfied: python-dateutil>=2.8.2 in /usr/local/lib/python3.11/dist-packages (from pandas->ta) (2.9.0.post0)\n",
            "Requirement already satisfied: pytz>=2020.1 in /usr/local/lib/python3.11/dist-packages (from pandas->ta) (2025.2)\n",
            "Requirement already satisfied: tzdata>=2022.7 in /usr/local/lib/python3.11/dist-packages (from pandas->ta) (2025.2)\n",
            "Requirement already satisfied: six>=1.5 in /usr/local/lib/python3.11/dist-packages (from python-dateutil>=2.8.2->pandas->ta) (1.17.0)\n"
          ]
        }
      ],
      "source": [
        "!pip install ta\n",
        "from ta.trend import adx, adx_pos, adx_neg\n",
        "import yfinance as yf\n",
        "import pandas as pd\n",
        "import numpy as np\n",
        "from datetime import time\n",
        "import pytz"
      ]
    },
    {
      "cell_type": "code",
      "source": [
        "# --- Configuration ---\n",
        "K_PERIOD = 14\n",
        "D_PERIOD = 3\n",
        "target_pct = 0.03\n",
        "stoploss_pct = 0.01\n",
        "MARKET_OPEN_TIME = time(9, 15)\n",
        "EOD_EXIT_TIME = time(15, 15)\n",
        "INITIAL_CAPITAL = 50000"
      ],
      "metadata": {
        "id": "LU_CgwYu6BzN"
      },
      "execution_count": null,
      "outputs": []
    },
    {
      "cell_type": "code",
      "source": [
        "def fetch_intraday_data(ticker, start_date, end_date):\n",
        "    df = yf.download(ticker, start=start_date, end=end_date, interval=\"1m\")\n",
        "    df.index = pd.to_datetime(df.index)\n",
        "    df.index = df.index.tz_convert('Asia/Kolkata')\n",
        "    if isinstance(df.columns, pd.MultiIndex):\n",
        "        df.columns = df.columns.get_level_values(0)\n",
        "    return df"
      ],
      "metadata": {
        "id": "zfmc0h5e6Ezf"
      },
      "execution_count": null,
      "outputs": []
    },
    {
      "cell_type": "code",
      "source": [
        "def calculate_stochastic(df, k_period, d_period):\n",
        "    low_min = df['Low'].rolling(k_period).min()\n",
        "    high_max = df['High'].rolling(k_period).max()\n",
        "    df['%K'] = 100 * (df['Close'] - low_min) / (high_max - low_min)\n",
        "    df['%D'] = df['%K'].rolling(d_period).mean()\n",
        "    return df"
      ],
      "metadata": {
        "id": "khNqYx2_6IgO"
      },
      "execution_count": null,
      "outputs": []
    },
    {
      "cell_type": "code",
      "source": [
        "def check_entry_signal(df, trend):\n",
        "    row_prev = df.iloc[-2]\n",
        "    row_curr = df.iloc[-1]\n",
        "    if trend == 'uptrend' and row_prev['%K'] < row_prev['%D'] and row_curr['%K'] > row_curr['%D'] and row_curr['%K'] < 20:\n",
        "        return 'long'\n",
        "    elif trend == 'downtrend' and row_prev['%K'] > row_prev['%D'] and row_curr['%K'] < row_curr['%D'] and row_curr['%K'] > 80:\n",
        "        return 'short'\n",
        "    return None"
      ],
      "metadata": {
        "id": "q1Pbfb3Og9dc"
      },
      "execution_count": null,
      "outputs": []
    },
    {
      "cell_type": "code",
      "source": [
        "def calculate_adx_trend(df, adx_period=14):\n",
        "    if df.shape[0] < adx_period + 1:\n",
        "        return 'sideways'  # Not enough data to calculate ADX\n",
        "\n",
        "    try:\n",
        "        df = df.copy()\n",
        "        df['ADX'] = adx(df['High'], df['Low'], df['Close'], window=adx_period)\n",
        "        df['DI+'] = adx_pos(df['High'], df['Low'], df['Close'], window=adx_period)\n",
        "        df['DI-'] = adx_neg(df['High'], df['Low'], df['Close'], window=adx_period)\n",
        "\n",
        "        latest = df.dropna().iloc[-1]\n",
        "\n",
        "        if latest['ADX'] < 20:\n",
        "            return 'sideways'\n",
        "        elif latest['DI+'] > latest['DI-']:\n",
        "            return 'uptrend'\n",
        "        else:\n",
        "            return 'downtrend'\n",
        "    except IndexError:\n",
        "        return 'sideways'  # fallback in case ADX calculation fails\n"
      ],
      "metadata": {
        "id": "Iqj8f7Sl6K9t"
      },
      "execution_count": null,
      "outputs": []
    },
    {
      "cell_type": "code",
      "source": [
        "def should_enter_long(prev_k, prev_d, curr_k, curr_d):\n",
        "    return prev_k < prev_d and curr_k > curr_d and curr_k < 20"
      ],
      "metadata": {
        "id": "Q4ulw68u6NSr"
      },
      "execution_count": null,
      "outputs": []
    },
    {
      "cell_type": "code",
      "source": [
        "def should_enter_short(prev_k, prev_d, curr_k, curr_d):\n",
        "    return prev_k > prev_d and curr_k < curr_d and curr_k > 80"
      ],
      "metadata": {
        "id": "XQwzDd_p6P8U"
      },
      "execution_count": null,
      "outputs": []
    },
    {
      "cell_type": "code",
      "source": [
        "def run_strategy(df):\n",
        "    capital = INITIAL_CAPITAL\n",
        "    trade_log = []\n",
        "    minute_data = pd.DataFrame()\n",
        "    in_position = False\n",
        "    position_type = None\n",
        "    qty = 0\n",
        "    entry_price = 0\n",
        "    entry_time = None\n",
        "    opening_price = None\n",
        "\n",
        "    for timestamp, row in df.iterrows():\n",
        "        if timestamp.time() < MARKET_OPEN_TIME:\n",
        "            continue\n",
        "\n",
        "        minute_data = pd.concat([minute_data, pd.DataFrame([row], index=[timestamp])])\n",
        "\n",
        "        if opening_price is None:\n",
        "            opening_price = row['Open']\n",
        "            print(f\"🔔 {timestamp.date()} Market opened at ₹{opening_price:.2f}\")\n",
        "            continue\n",
        "\n",
        "        if len(minute_data) < max(K_PERIOD + D_PERIOD, 20):\n",
        "            continue\n",
        "\n",
        "        trend = calculate_adx_trend(minute_data)\n",
        "        if trend == 'sideways':\n",
        "            continue\n",
        "\n",
        "        minute_data = calculate_stochastic(minute_data, K_PERIOD, D_PERIOD)\n",
        "        current_price = row['Close']\n",
        "\n",
        "        if in_position:\n",
        "            target_price = entry_price * (1 + target_pct) if position_type == 'long' else entry_price * (1 - target_pct)\n",
        "            stop_price = entry_price * (1 - stoploss_pct) if position_type == 'long' else entry_price * (1 + stoploss_pct)\n",
        "            exit_now = False\n",
        "            reason = ''\n",
        "\n",
        "            if position_type == 'long':\n",
        "                if row['High'] >= target_price:\n",
        "                    current_price = target_price\n",
        "                    exit_now = True\n",
        "                    reason = '🎯 Target hit'\n",
        "                elif row['Low'] <= stop_price:\n",
        "                    current_price = stop_price\n",
        "                    exit_now = True\n",
        "                    reason = '🛑 Stop-loss hit'\n",
        "            else:\n",
        "                if row['Low'] <= target_price:\n",
        "                    current_price = target_price\n",
        "                    exit_now = True\n",
        "                    reason = '🎯 Target hit'\n",
        "                elif row['High'] >= stop_price:\n",
        "                    current_price = stop_price\n",
        "                    exit_now = True\n",
        "                    reason = '🛑 Stop-loss hit'\n",
        "\n",
        "            if exit_now:\n",
        "                profit = (current_price - entry_price) * qty if position_type == 'long' else (entry_price - current_price) * qty\n",
        "                capital += profit\n",
        "                trade_log.append({\n",
        "                    'Type': position_type,\n",
        "                    'Entry': entry_price,\n",
        "                    'Exit': current_price,\n",
        "                    'Qty': qty,\n",
        "                    'PnL': profit,\n",
        "                    'Reason': reason,\n",
        "                    'Entry Time': entry_time,\n",
        "                    'Exit Time': timestamp\n",
        "                })\n",
        "                print(f\"📤 Exit at ₹{current_price:.2f} | P&L: ₹{profit:.2f} | {reason}\")\n",
        "                in_position = False\n",
        "\n",
        "        #Entry logic\n",
        "        if not in_position:\n",
        "            signal = check_entry_signal(minute_data, trend)\n",
        "            if signal:\n",
        "                entry_time = timestamp\n",
        "                entry_price = current_price\n",
        "                qty = capital // entry_price\n",
        "                position_type = signal\n",
        "                in_position = True\n",
        "\n",
        "        if timestamp.time() >= EOD_EXIT_TIME:\n",
        "            if in_position:\n",
        "                profit = (current_price - entry_price) * qty if position_type == 'long' else (entry_price - current_price) * qty\n",
        "                capital += profit\n",
        "                trade_log.append({\n",
        "                    'Type': position_type,\n",
        "                    'Entry': entry_price,\n",
        "                    'Exit': current_price,\n",
        "                    'Qty': qty,\n",
        "                    'PnL': profit,\n",
        "                    'Reason': '🕒 EOD Exit',\n",
        "                    'Entry Time': entry_time,\n",
        "                    'Exit Time': timestamp\n",
        "                })\n",
        "                print(f\"📤 EOD exit at ₹{current_price:.2f} | P&L: ₹{profit:.2f}\")\n",
        "                in_position = False\n",
        "            break\n",
        "\n",
        "    return trade_log, capital"
      ],
      "metadata": {
        "id": "BYXp91sPhWBw"
      },
      "execution_count": null,
      "outputs": []
    },
    {
      "cell_type": "code",
      "source": [
        "def summarize_trades(trade_log, final_capital):\n",
        "    wins = sum(1 for t in trade_log if t['PnL'] > 0)\n",
        "    losses = sum(1 for t in trade_log if t['PnL'] <= 0)\n",
        "\n",
        "    print(\"\\n📘 Trade Summary:\")\n",
        "    for i, t in enumerate(trade_log, 1):\n",
        "        print(f\"{i}) {t['Type'].capitalize()} | Entry: ₹{t['Entry']:.2f} at {t['Entry Time'].strftime('%Y-%m-%d %H:%M')} | \"\n",
        "              f\"Exit: ₹{t['Exit']:.2f} at {t['Exit Time'].strftime('%Y-%m-%d %H:%M')} | Qty: {int(t['Qty'])} | \"\n",
        "              f\"P&L: ₹{t['PnL']:.2f} | {t['Reason']}\")\n",
        "\n",
        "    print(f\"\\n✅ Wins: {wins} | ❌ Losses: {losses}\")\n",
        "    print(f\"💰 Final Capital: ₹{final_capital:.2f}\")\n",
        "\n"
      ],
      "metadata": {
        "id": "QC9SOsbg6Y_8"
      },
      "execution_count": null,
      "outputs": []
    },
    {
      "cell_type": "code",
      "source": [
        "# --- Example run ---\n",
        "if __name__ == \"__main__\":\n",
        "    df = fetch_intraday_data(\"SAIL.NS\", \"2025-05-19\", \"2025-05-20\")\n",
        "    trades, capital = run_strategy(df)\n",
        "    summarize_trades(trades, capital)"
      ],
      "metadata": {
        "colab": {
          "base_uri": "https://localhost:8080/"
        },
        "id": "s4Sxynbh6bjG",
        "outputId": "4f49d9a1-73da-4ef4-a72f-3f21dd6a3bce"
      },
      "execution_count": null,
      "outputs": [
        {
          "output_type": "stream",
          "name": "stderr",
          "text": [
            "\r[*********************100%***********************]  1 of 1 completed\n"
          ]
        },
        {
          "output_type": "stream",
          "name": "stdout",
          "text": [
            "🔔 2025-05-19 Market opened at ₹122.48\n",
            "\n",
            "📘 Trade Summary:\n",
            "\n",
            "✅ Wins: 0 | ❌ Losses: 0\n",
            "💰 Final Capital: ₹50000.00\n"
          ]
        }
      ]
    }
  ]
}