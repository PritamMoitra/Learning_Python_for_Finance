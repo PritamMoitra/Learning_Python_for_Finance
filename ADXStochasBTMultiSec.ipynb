{
  "nbformat": 4,
  "nbformat_minor": 0,
  "metadata": {
    "colab": {
      "provenance": [],
      "authorship_tag": "ABX9TyNG//+3pysY5Jq6EREpO7Gj",
      "include_colab_link": true
    },
    "kernelspec": {
      "name": "python3",
      "display_name": "Python 3"
    },
    "language_info": {
      "name": "python"
    }
  },
  "cells": [
    {
      "cell_type": "markdown",
      "metadata": {
        "id": "view-in-github",
        "colab_type": "text"
      },
      "source": [
        "<a href=\"https://colab.research.google.com/github/PritamMoitra/Learning_Python_for_Finance/blob/main/ADXStochasBTMultiSec.ipynb\" target=\"_parent\"><img src=\"https://colab.research.google.com/assets/colab-badge.svg\" alt=\"Open In Colab\"/></a>"
      ]
    },
    {
      "cell_type": "code",
      "source": [
        "!pip install ta\n",
        "import yfinance as yf\n",
        "import pandas as pd\n",
        "import numpy as np\n",
        "from datetime import time\n",
        "from ta.trend import adx"
      ],
      "metadata": {
        "colab": {
          "base_uri": "https://localhost:8080/"
        },
        "id": "HN7vR82VvL9L",
        "outputId": "b7299797-28b4-446e-99a0-7be655ae52af"
      },
      "execution_count": null,
      "outputs": [
        {
          "output_type": "stream",
          "name": "stdout",
          "text": [
            "Collecting ta\n",
            "  Downloading ta-0.11.0.tar.gz (25 kB)\n",
            "  Preparing metadata (setup.py) ... \u001b[?25l\u001b[?25hdone\n",
            "Requirement already satisfied: numpy in /usr/local/lib/python3.11/dist-packages (from ta) (2.0.2)\n",
            "Requirement already satisfied: pandas in /usr/local/lib/python3.11/dist-packages (from ta) (2.2.2)\n",
            "Requirement already satisfied: python-dateutil>=2.8.2 in /usr/local/lib/python3.11/dist-packages (from pandas->ta) (2.9.0.post0)\n",
            "Requirement already satisfied: pytz>=2020.1 in /usr/local/lib/python3.11/dist-packages (from pandas->ta) (2025.2)\n",
            "Requirement already satisfied: tzdata>=2022.7 in /usr/local/lib/python3.11/dist-packages (from pandas->ta) (2025.2)\n",
            "Requirement already satisfied: six>=1.5 in /usr/local/lib/python3.11/dist-packages (from python-dateutil>=2.8.2->pandas->ta) (1.17.0)\n",
            "Building wheels for collected packages: ta\n",
            "  Building wheel for ta (setup.py) ... \u001b[?25l\u001b[?25hdone\n",
            "  Created wheel for ta: filename=ta-0.11.0-py3-none-any.whl size=29412 sha256=21c92e6ac7512dc037a522fa1e3f123bbcf2cee18e4d7603b975627caa53c15d\n",
            "  Stored in directory: /root/.cache/pip/wheels/a1/d7/29/7781cc5eb9a3659d032d7d15bdd0f49d07d2b24fec29f44bc4\n",
            "Successfully built ta\n",
            "Installing collected packages: ta\n",
            "Successfully installed ta-0.11.0\n"
          ]
        }
      ]
    },
    {
      "cell_type": "code",
      "source": [
        "# Parameters\n",
        "tickers = [ 'APOLLOHOSP.NS','ASIANPAINT.NS','AXISBANK.NS',\n",
        "            'BAJAJ-AUTO.NS','BAJFINANCE.NS','BAJAJFINSV.NS','BEL.NS','BHARTIARTL.NS',\n",
        "            'CIPLA.NS','COALINDIA.NS','DRREDDY.NS','EICHERMOT.NS','ETERNAL.NS',\n",
        "            'GRASIM.NS','HCLTECH.NS','HDFCBANK.NS','HDFCLIFE.NS','HEROMOTOCO.NS',\n",
        "            'HINDALCO.NS','HINDUNILVR.NS','ICICIBANK.NS','ITC.NS','INDUSINDBK.NS',\n",
        "            'INFY.NS','JSWSTEEL.NS','JIOFIN.NS','KOTAKBANK.NS','LT.NS',\n",
        "            'M&M.NS','MARUTI.NS','NTPC.NS','NESTLEIND.NS','ONGC.NS',\n",
        "            'POWERGRID.NS','RELIANCE.NS','SBILIFE.NS','SHRIRAMFIN.NS','SBIN.NS',\n",
        "            'SUNPHARMA.NS','TCS.NS','TATACONSUM.NS','TATAMOTORS.NS','TATASTEEL.NS',\n",
        "            'TECHM.NS','TITAN.NS','TRENT.NS','ULTRACEMCO.NS','WIPRO.NS','ADANIENT.NS','ADANIPORTS.NS']\n",
        "start_date = '2025-06-19'\n",
        "end_date = '2025-06-20'\n",
        "adx_threshold = 20\n",
        "initial_capital = 52674.06\n",
        "k_period = 14\n",
        "d_period = 3\n",
        "target_pct = 0.02\n",
        "stoploss_pct = 0.01"
      ],
      "metadata": {
        "id": "ZYmkhAkcvSoF"
      },
      "execution_count": null,
      "outputs": []
    },
    {
      "cell_type": "code",
      "source": [
        "def fetch_intraday_data(ticker, start_date, end_date, interval=\"1m\"):\n",
        "    df = yf.download(ticker, start=start_date, end=end_date, interval=interval, progress=False, auto_adjust=False)\n",
        "    print(df.tail())\n",
        "    df.index = pd.to_datetime(df.index)\n",
        "    df.index = df.index.tz_convert('Asia/Kolkata')\n",
        "\n",
        "    if isinstance(df.columns, pd.MultiIndex):\n",
        "        df.columns = df.columns.get_level_values(0)\n",
        "\n",
        "    # Remove any remaining multi-dimensional data\n",
        "    df = df[['Open', 'High', 'Low', 'Close', 'Volume']]\n",
        "    return df"
      ],
      "metadata": {
        "id": "YXjDczufvWyr"
      },
      "execution_count": null,
      "outputs": []
    },
    {
      "cell_type": "code",
      "source": [
        "def is_trending(df, adx_period=14):\n",
        "    if len(df) < adx_period + 1:\n",
        "        return False\n",
        "    adx_series = adx(df['High'], df['Low'], df['Close'], window=adx_period)\n",
        "    latest_adx = adx_series.dropna().iloc[-1] if not adx_series.dropna().empty else 0\n",
        "    return latest_adx > adx_threshold"
      ],
      "metadata": {
        "id": "ihwZmgdGvZbz"
      },
      "execution_count": null,
      "outputs": []
    },
    {
      "cell_type": "code",
      "source": [
        "def run_strategy(df):\n",
        "    capital = initial_capital\n",
        "    in_position = False\n",
        "    trade_log = []\n",
        "    minute_data = pd.DataFrame()\n",
        "    entry_price = qty = 0\n",
        "    position_type = ''\n",
        "\n",
        "    opening_price = df.iloc[0]['Open']\n",
        "\n",
        "    for timestamp, row in df.iterrows():\n",
        "        minute_data = pd.concat([minute_data, pd.DataFrame([row], index=[timestamp])])\n",
        "\n",
        "        if len(minute_data) < k_period + d_period:\n",
        "            continue\n",
        "\n",
        "        trend = 'uptrend' if row['Close'] > opening_price else 'downtrend'\n",
        "\n",
        "        recent = minute_data.iloc[-(k_period + d_period):].copy()\n",
        "        low_min = recent['Low'].rolling(k_period).min()\n",
        "        high_max = recent['High'].rolling(k_period).max()\n",
        "        recent['%K'] = 100 * (recent['Close'] - low_min) / (high_max - low_min)\n",
        "        recent['%D'] = recent['%K'].rolling(d_period).mean()\n",
        "\n",
        "        row_prev = recent.iloc[-2]\n",
        "        row_curr = recent.iloc[-1]\n",
        "\n",
        "        # Exit logic\n",
        "        if in_position:\n",
        "            target_price = entry_price * (1 + target_pct) if position_type == 'long' else entry_price * (1 - target_pct)\n",
        "            stoploss_price = entry_price * (1 - stoploss_pct) if position_type == 'long' else entry_price * (1 + stoploss_pct)\n",
        "\n",
        "            if (position_type == 'long' and (row['High'] >= target_price or row['Low'] <= stoploss_price)) or \\\n",
        "               (position_type == 'short' and (row['Low'] <= target_price or row['High'] >= stoploss_price)):\n",
        "                exit_price = target_price if (row['High'] >= target_price or row['Low'] <= target_price) else stoploss_price\n",
        "                profit = (exit_price - entry_price) * qty if position_type == 'long' else (entry_price - exit_price) * qty\n",
        "                capital += profit\n",
        "                trade_log.append({\n",
        "                    'Type': position_type,\n",
        "                    'Entry': entry_price,\n",
        "                    'Exit': exit_price,\n",
        "                    'Qty': qty,\n",
        "                    'PnL': profit,\n",
        "                    'Entry Time': entry_time,\n",
        "                    'Exit Time': timestamp\n",
        "                })\n",
        "                in_position = False\n",
        "\n",
        "        # Entry logic\n",
        "        if not in_position:\n",
        "            if trend == 'uptrend' and row_prev['%K'] < row_prev['%D'] and row_curr['%K'] > row_curr['%D'] and row_curr['%K'] < 20:\n",
        "                entry_price = row['Close']\n",
        "                qty = capital // entry_price\n",
        "                entry_time = timestamp\n",
        "                in_position = True\n",
        "                position_type = 'long'\n",
        "            elif trend == 'downtrend' and row_prev['%K'] > row_prev['%D'] and row_curr['%K'] < row_curr['%D'] and row_curr['%K'] > 80:\n",
        "                entry_price = row['Close']\n",
        "                qty = capital // entry_price\n",
        "                entry_time = timestamp\n",
        "                in_position = True\n",
        "                position_type = 'short'\n",
        "\n",
        "        # EOD Exit\n",
        "        if timestamp.time() >= time(15, 15) and in_position:\n",
        "            exit_price = row['Close']\n",
        "            profit = (exit_price - entry_price) * qty if position_type == 'long' else (entry_price - exit_price) * qty\n",
        "            capital += profit\n",
        "            trade_log.append({\n",
        "                'Type': position_type,\n",
        "                'Entry': entry_price,\n",
        "                'Exit': exit_price,\n",
        "                'Qty': qty,\n",
        "                'PnL': profit,\n",
        "                'Entry Time': entry_time,\n",
        "                'Exit Time': timestamp\n",
        "            })\n",
        "            in_position = False\n",
        "            break\n",
        "\n",
        "    return trade_log, capital"
      ],
      "metadata": {
        "id": "y-vLlKCYvcoJ"
      },
      "execution_count": null,
      "outputs": []
    },
    {
      "cell_type": "code",
      "source": [
        "def summarize_trades(trade_log, capital):\n",
        "    wins = sum(1 for t in trade_log if t['PnL'] > 0)\n",
        "    losses = len(trade_log) - wins\n",
        "\n",
        "    print(\"\\n📘 Trade Summary:\")\n",
        "    for i, t in enumerate(trade_log, 1):\n",
        "        print(f\"{i}) {t['Type'].capitalize()} | Entry: ₹{t['Entry']:.2f} at {t['Entry Time']} | Exit: ₹{t['Exit']:.2f} at {t['Exit Time']} | Qty: {t['Qty']} | P&L: ₹{t['PnL']:.2f}\")\n",
        "\n",
        "    print(f\"\\n✅ Wins: {wins} | ❌ Losses: {losses}\")\n",
        "    print(f\"💰 Final Capital: ₹{capital:.2f}\")"
      ],
      "metadata": {
        "id": "mv-eDLhVvg9N"
      },
      "execution_count": null,
      "outputs": []
    },
    {
      "cell_type": "code",
      "source": [
        "# --- Main execution ---\n",
        "if __name__ == \"__main__\":\n",
        "    selected_ticker = None\n",
        "    for ticker in tickers:\n",
        "        df = fetch_intraday_data(ticker, start_date, end_date)\n",
        "        if is_trending(df):\n",
        "            selected_ticker = ticker\n",
        "            print(f\"✅ Selected Trending Ticker: {ticker}\")\n",
        "            trades, final_capital = run_strategy(df)\n",
        "            summarize_trades(trades, final_capital)\n",
        "            break\n",
        "\n",
        "    if not selected_ticker:\n",
        "        print(\"❌ No trending ticker found.\")"
      ],
      "metadata": {
        "colab": {
          "base_uri": "https://localhost:8080/"
        },
        "id": "wdUoevmjvkWZ",
        "outputId": "2654504a-bacb-41e1-852f-6313bf404898"
      },
      "execution_count": null,
      "outputs": [
        {
          "output_type": "stream",
          "name": "stdout",
          "text": [
            "Price                         Adj Close         Close          High  \\\n",
            "Ticker                    APOLLOHOSP.NS APOLLOHOSP.NS APOLLOHOSP.NS   \n",
            "Datetime                                                              \n",
            "2025-06-19 09:55:00+00:00        6992.5        6992.5        6995.0   \n",
            "2025-06-19 09:56:00+00:00        6992.0        6992.0        6997.0   \n",
            "2025-06-19 09:57:00+00:00        6994.5        6994.5        6994.5   \n",
            "2025-06-19 09:58:00+00:00        6992.0        6992.0        6995.0   \n",
            "2025-06-19 09:59:00+00:00        6996.0        6996.0        6996.0   \n",
            "\n",
            "Price                               Low          Open        Volume  \n",
            "Ticker                    APOLLOHOSP.NS APOLLOHOSP.NS APOLLOHOSP.NS  \n",
            "Datetime                                                             \n",
            "2025-06-19 09:55:00+00:00        6991.5        6993.5          1689  \n",
            "2025-06-19 09:56:00+00:00        6992.0        6992.5          1394  \n",
            "2025-06-19 09:57:00+00:00        6992.0        6992.5          1237  \n",
            "2025-06-19 09:58:00+00:00        6992.0        6994.5          2270  \n",
            "2025-06-19 09:59:00+00:00        6991.5        6992.0           487  \n",
            "✅ Selected Trending Ticker: APOLLOHOSP.NS\n",
            "\n",
            "📘 Trade Summary:\n",
            "1) Long | Entry: ₹6994.50 at 2025-06-19 11:06:00+05:30 | Exit: ₹7013.50 at 2025-06-19 15:15:00+05:30 | Qty: 7.0 | P&L: ₹133.00\n",
            "\n",
            "✅ Wins: 1 | ❌ Losses: 0\n",
            "💰 Final Capital: ₹52807.06\n"
          ]
        }
      ]
    }
  ]
}