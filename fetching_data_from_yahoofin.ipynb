{
  "nbformat": 4,
  "nbformat_minor": 0,
  "metadata": {
    "colab": {
      "provenance": []
    },
    "kernelspec": {
      "name": "python3",
      "display_name": "Python 3"
    },
    "language_info": {
      "name": "python"
    }
  },
  "cells": [
    {
      "cell_type": "markdown",
      "source": [
        "importing yahoo finance library yfinance\n",
        "\n",
        "need to find out other libraries"
      ],
      "metadata": {
        "id": "Qnn97eNtbByL"
      }
    },
    {
      "cell_type": "code",
      "execution_count": null,
      "metadata": {
        "id": "ZonHew3FaqQD"
      },
      "outputs": [],
      "source": [
        "import yfinance as yf"
      ]
    },
    {
      "cell_type": "markdown",
      "source": [
        "download a stock data eg.: UPS"
      ],
      "metadata": {
        "id": "DfBv62oobjsa"
      }
    },
    {
      "cell_type": "code",
      "source": [
        "df=yf.download(\n",
        "    'UPS',\n",
        "    start='2025-01-01',\n",
        "    end='2025-12-31',\n",
        "    actions='True'\n",
        ")"
      ],
      "metadata": {
        "colab": {
          "base_uri": "https://localhost:8080/"
        },
        "id": "etS9TuMjbxkx",
        "outputId": "ea65628f-f159-47a3-f26c-ffe7989ab43b"
      },
      "execution_count": null,
      "outputs": [
        {
          "output_type": "stream",
          "name": "stderr",
          "text": [
            "\r[*********************100%***********************]  1 of 1 completed\n"
          ]
        }
      ]
    },
    {
      "cell_type": "markdown",
      "source": [
        "1. Display data info\n",
        "2. Display top 5 rows of the datafrme"
      ],
      "metadata": {
        "id": "OGUPdgIwcSy7"
      }
    },
    {
      "cell_type": "code",
      "source": [
        "print(df.info(),'\\n')\n",
        "print(df.head())"
      ],
      "metadata": {
        "colab": {
          "base_uri": "https://localhost:8080/"
        },
        "id": "4B8JqbREcWDy",
        "outputId": "ac151f94-5f34-4217-c1e8-b4a19df4bf14"
      },
      "execution_count": null,
      "outputs": [
        {
          "output_type": "stream",
          "name": "stdout",
          "text": [
            "<class 'pandas.core.frame.DataFrame'>\n",
            "DatetimeIndex: 17 entries, 2025-01-02 to 2025-01-28\n",
            "Data columns (total 7 columns):\n",
            " #   Column               Non-Null Count  Dtype  \n",
            "---  ------               --------------  -----  \n",
            " 0   (Close, UPS)         17 non-null     float64\n",
            " 1   (Dividends, UPS)     17 non-null     float64\n",
            " 2   (High, UPS)          17 non-null     float64\n",
            " 3   (Low, UPS)           17 non-null     float64\n",
            " 4   (Open, UPS)          17 non-null     float64\n",
            " 5   (Stock Splits, UPS)  17 non-null     float64\n",
            " 6   (Volume, UPS)        17 non-null     int64  \n",
            "dtypes: float64(6), int64(1)\n",
            "memory usage: 1.1 KB\n",
            "None \n",
            "\n",
            "Price            Close Dividends        High         Low        Open  \\\n",
            "Ticker             UPS       UPS         UPS         UPS         UPS   \n",
            "Date                                                                   \n",
            "2025-01-02  123.870003       0.0  127.220001  123.540001  127.040001   \n",
            "2025-01-03  123.790001       0.0  124.330002  122.760002  123.959999   \n",
            "2025-01-06  124.209999       0.0  125.000000  123.809998  124.699997   \n",
            "2025-01-07  124.980003       0.0  127.080002  124.010002  125.180000   \n",
            "2025-01-08  126.760002       0.0  126.779999  125.220001  125.910004   \n",
            "\n",
            "Price      Stock Splits   Volume  \n",
            "Ticker              UPS      UPS  \n",
            "Date                              \n",
            "2025-01-02          0.0  3050500  \n",
            "2025-01-03          0.0  3490400  \n",
            "2025-01-06          0.0  5049200  \n",
            "2025-01-07          0.0  3725300  \n",
            "2025-01-08          0.0  4536300  \n"
          ]
        }
      ]
    },
    {
      "cell_type": "markdown",
      "source": [
        "Display Close price only of data frame"
      ],
      "metadata": {
        "id": "54JhkH2xctaT"
      }
    },
    {
      "cell_type": "code",
      "source": [
        "print(df['Close'],'\\n')"
      ],
      "metadata": {
        "colab": {
          "base_uri": "https://localhost:8080/"
        },
        "id": "Chrcpualc0OS",
        "outputId": "e221c676-b960-4226-b800-a1c305f49d38"
      },
      "execution_count": null,
      "outputs": [
        {
          "output_type": "stream",
          "name": "stdout",
          "text": [
            "Ticker             UPS\n",
            "Date                  \n",
            "2025-01-02  123.870003\n",
            "2025-01-03  123.790001\n",
            "2025-01-06  124.209999\n",
            "2025-01-07  124.980003\n",
            "2025-01-08  126.760002\n",
            "2025-01-10  123.279999\n",
            "2025-01-13  125.010002\n",
            "2025-01-14  125.839996\n",
            "2025-01-15  127.470001\n",
            "2025-01-16  129.940002\n",
            "2025-01-17  129.729996\n",
            "2025-01-21  132.869995\n",
            "2025-01-22  132.550003\n",
            "2025-01-23  133.610001\n",
            "2025-01-24  133.029999\n",
            "2025-01-27  136.259995\n",
            "2025-01-28  135.699997 \n",
            "\n"
          ]
        }
      ]
    },
    {
      "cell_type": "markdown",
      "source": [
        "Display Open price from date range 2025-01-01 to 2025-01-25"
      ],
      "metadata": {
        "id": "rDg6DvcidFWj"
      }
    },
    {
      "cell_type": "code",
      "source": [
        "print(df.loc['2025-01-01':'2025-01-25',['Open','Close']],'\\n')"
      ],
      "metadata": {
        "colab": {
          "base_uri": "https://localhost:8080/"
        },
        "id": "kdjgwN1ldOvS",
        "outputId": "4846e0d3-9d2a-4519-a62d-fa0e9c739c8e"
      },
      "execution_count": null,
      "outputs": [
        {
          "output_type": "stream",
          "name": "stdout",
          "text": [
            "Price             Open       Close\n",
            "Ticker             UPS         UPS\n",
            "Date                              \n",
            "2025-01-02  127.040001  123.870003\n",
            "2025-01-03  123.959999  123.790001\n",
            "2025-01-06  124.699997  124.209999\n",
            "2025-01-07  125.180000  124.980003\n",
            "2025-01-08  125.910004  126.760002\n",
            "2025-01-10  125.010002  123.279999\n",
            "2025-01-13  123.339996  125.010002\n",
            "2025-01-14  125.370003  125.839996\n",
            "2025-01-15  127.500000  127.470001\n",
            "2025-01-16  129.509995  129.940002\n",
            "2025-01-17  130.149994  129.729996\n",
            "2025-01-21  130.419998  132.869995\n",
            "2025-01-22  132.660004  132.550003\n",
            "2025-01-23  132.940002  133.610001\n",
            "2025-01-24  133.399994  133.029999 \n",
            "\n"
          ]
        }
      ]
    },
    {
      "cell_type": "markdown",
      "source": [
        "Print Details of Stock:"
      ],
      "metadata": {
        "id": "TV-6OLSVdwyE"
      }
    },
    {
      "cell_type": "code",
      "source": [
        "df_funda=yf.Ticker(\"ITC.NS\")\n",
        "print(df_funda.info)"
      ],
      "metadata": {
        "colab": {
          "base_uri": "https://localhost:8080/"
        },
        "id": "JEiHKUz2S8S5",
        "outputId": "b69927f0-12ed-4b3d-daad-3b903d7fd257"
      },
      "execution_count": null,
      "outputs": [
        {
          "output_type": "stream",
          "name": "stdout",
          "text": [
            "{'address1': 'Virginia House', 'address2': '37 Jawaharlal Nehru Road', 'city': 'Kolkata', 'zip': '700071', 'country': 'India', 'phone': '91 33 2288 9371', 'fax': '91 33 2288 2358', 'website': 'https://www.itcportal.com', 'industry': 'Tobacco', 'industryKey': 'tobacco', 'industryDisp': 'Tobacco', 'sector': 'Consumer Defensive', 'sectorKey': 'consumer-defensive', 'sectorDisp': 'Consumer Defensive', 'longBusinessSummary': 'ITC Limited engages in the fast-moving consumer goods, hotels, paperboards and paper and packaging, agri, and information technology businesses in India and internationally. It primarily offers cigarettes and cigars; staples, spices, biscuits, confectionery and gums, snacks, noodles and pasta, beverages, dairy, ready to eat meals, chocolate, coffee, and frozen foods; personal care products; notebooks, pens and pencils, geometry boxes, erasers, sharpeners, rulers, wax and plastic crayons, sketch pens, and oil pastels; safety matches; and incense sticks under various brands. The company also operates hotels under the ITC Hotel, Mementos, Welcomhotel, Storii, Fortune, and WelcomHeritage brands; and Kaya Kalp spas. In addition, it offers virgin, recycled, coated barrier, cupstock base, liner, liquid packaging, anti-fungal, solid, and graphic boards, as well as specialty papers; overlay, surfacing/print base, barrier, and liner papers; plastic substitution products; and packaging products, such as carton board, flexible, tobacco, and green packaging products. Further, the company exports feed ingredients, food grains, marine products, processed fruits, coffee products, leaf tobacco products, and spices; and offers information technology services for the banking, financial services, consumer goods, manufacturing, travel, hospitality, and healthcare industries. Additionally, it provides property infrastructure and estate maintenance; engineering, procurement, and construction management; project management consultancy; cartooning and wrapping; conveyor; and business consulting, real estate development, and agro-forestry and other related services. The company also manages and operates golf courses; fabricates and assembles machinery for tube filling; and produces and commercializes seed potato technology products. ITC Limited was incorporated in 1910 and is headquartered in Kolkata, India.', 'fullTimeEmployees': 37312, 'companyOfficers': [{'maxAge': 1, 'name': 'Mr. Sanjiv  Puri', 'age': 61, 'title': 'Chairman & MD', 'yearBorn': 1963, 'fiscalYear': 2024, 'totalPay': 251779000, 'exercisedValue': 0, 'unexercisedValue': 0}, {'maxAge': 1, 'name': 'Mr. Supratim  Dutta', 'age': 57, 'title': 'CFO & Whole Time Director', 'yearBorn': 1967, 'fiscalYear': 2024, 'totalPay': 56678000, 'exercisedValue': 0, 'unexercisedValue': 0}, {'maxAge': 1, 'name': 'Mr. Rajendra Kumar Singhi', 'age': 59, 'title': 'Executive VP, Company Secretary & Compliance Officer', 'yearBorn': 1965, 'fiscalYear': 2024, 'exercisedValue': 0, 'unexercisedValue': 0}, {'maxAge': 1, 'name': 'Mr. Arif  Nazeeb', 'age': 62, 'title': 'Head of Corporate Communications & Executive VP', 'yearBorn': 1962, 'fiscalYear': 2024, 'exercisedValue': 0, 'unexercisedValue': 0}, {'maxAge': 1, 'name': 'Mr. Sumant  Bhargavan', 'age': 60, 'title': 'Whole time Director', 'yearBorn': 1964, 'fiscalYear': 2024, 'totalPay': 119192000, 'exercisedValue': 0, 'unexercisedValue': 0}, {'maxAge': 1, 'name': 'Mr. Anil K. Rajput', 'age': 68, 'title': 'President of ITC Corporate Affairs', 'yearBorn': 1956, 'fiscalYear': 2024, 'exercisedValue': 0, 'unexercisedValue': 0}, {'maxAge': 1, 'name': 'Mr. Hemant  Malik', 'age': 57, 'title': 'Whole Time Director & Divisional Chief Executive of Foods Business', 'yearBorn': 1967, 'fiscalYear': 2024, 'totalPay': 24937000, 'exercisedValue': 0, 'unexercisedValue': 0}, {'maxAge': 1, 'name': 'Mr. Surampudi  Sivakumar', 'age': 63, 'title': 'Group Head of Agri Business', 'yearBorn': 1961, 'fiscalYear': 2024, 'exercisedValue': 0, 'unexercisedValue': 0}, {'maxAge': 1, 'name': 'Mr. Tunal Kumar Ghosal', 'title': 'Head of ISC, Compliance Officer & Deputy Secretary', 'fiscalYear': 2024, 'exercisedValue': 0, 'unexercisedValue': 0}, {'maxAge': 1, 'name': 'Datta  S.', 'age': 52, 'title': 'Chief Risk Officer', 'yearBorn': 1972, 'fiscalYear': 2024, 'exercisedValue': 0, 'unexercisedValue': 0}], 'auditRisk': 3, 'boardRisk': 6, 'compensationRisk': 8, 'shareHolderRightsRisk': 5, 'overallRisk': 7, 'governanceEpochDate': 1735689600, 'compensationAsOfEpochDate': 1735603200, 'maxAge': 86400, 'priceHint': 2, 'previousClose': 440.1, 'open': 440.0, 'dayLow': 434.5, 'dayHigh': 441.8, 'regularMarketPreviousClose': 440.1, 'regularMarketOpen': 440.0, 'regularMarketDayLow': 434.5, 'regularMarketDayHigh': 441.8, 'dividendRate': 15.0, 'dividendYield': 0.0341, 'exDividendDate': 1717459200, 'payoutRatio': 0.83739996, 'fiveYearAvgDividendYield': 4.04, 'beta': 0.241, 'trailingPE': 26.51949, 'forwardPE': 23.069479, 'volume': 20812317, 'regularMarketVolume': 20812317, 'averageVolume': 12979534, 'averageVolume10days': 12528155, 'averageDailyVolume10Day': 12528155, 'marketCap': 5448220016640, 'fiftyTwoWeekLow': 399.35, 'fiftyTwoWeekHigh': 528.5, 'priceToSalesTrailing12Months': 7.2512155, 'fiftyDayAverage': 462.978, 'twoHundredDayAverage': 468.5905, 'trailingAnnualDividendRate': 7.5, 'trailingAnnualDividendYield': 0.01704158, 'currency': 'INR', 'enterpriseValue': 5266292080640, 'profitMargins': 0.27337998, 'floatShares': 9137953176, 'sharesOutstanding': 12511699968, 'heldPercentInsiders': 0.28407, 'heldPercentInstitutions': 0.45957002, 'impliedSharesOutstanding': 12527500288, 'bookValue': 60.148, 'priceToBook': 7.2396426, 'lastFiscalYearEnd': 1711843200, 'nextFiscalYearEnd': 1743379200, 'mostRecentQuarter': 1727654400, 'earningsQuarterlyGrowth': 0.019, 'netIncomeToCommon': 205402406912, 'trailingEps': 16.42, 'forwardEps': 18.95, 'lastSplitFactor': '3:2', 'lastSplitDate': 1467331200, 'enterpriseToRevenue': 7.009, 'enterpriseToEbitda': 19.894, '52WeekChange': 0.008104086, 'SandP52WeekChange': 0.23883796, 'lastDividendValue': 7.5, 'lastDividendDate': 1717459200, 'exchange': 'NSI', 'quoteType': 'EQUITY', 'symbol': 'ITC.NS', 'underlyingSymbol': 'ITC.NS', 'shortName': 'ITC LTD', 'longName': 'ITC Limited', 'firstTradeDateEpochUtc': 820467900, 'timeZoneFullName': 'Asia/Kolkata', 'timeZoneShortName': 'IST', 'uuid': '2d1c10cc-4829-3114-aea5-57a0600cb464', 'messageBoardId': 'finmb_878153', 'gmtOffSetMilliseconds': 19800000, 'currentPrice': 435.45, 'targetHighPrice': 595.0, 'targetLowPrice': 420.0, 'targetMeanPrice': 535.07294, 'targetMedianPrice': 540.0, 'recommendationMean': 1.62162, 'recommendationKey': 'buy', 'numberOfAnalystOpinions': 37, 'totalCash': 190998691840, 'totalCashPerShare': 15.263, 'ebitda': 264712994816, 'totalDebt': 3043399936, 'quickRatio': 1.667, 'currentRatio': 3.052, 'totalRevenue': 751352676352, 'debtToEquity': 0.402, 'revenuePerShare': 60.164, 'returnOnAssets': 0.17, 'returnOnEquity': 0.28645, 'grossProfits': 441405407232, 'freeCashflow': 96529309696, 'operatingCashflow': 161626603520, 'earningsGrowth': 0.018, 'revenueGrowth': 0.167, 'grossMargins': 0.58748, 'ebitdaMargins': 0.35232, 'operatingMargins': 0.301, 'financialCurrency': 'INR', 'trailingPegRatio': None} \n",
            "\n"
          ]
        }
      ]
    },
    {
      "cell_type": "markdown",
      "source": [
        "print balance sheet of Stock:"
      ],
      "metadata": {
        "id": "K_T3eSRsUF5h"
      }
    },
    {
      "cell_type": "code",
      "source": [
        "print(df_funda.balance_sheet)"
      ],
      "metadata": {
        "colab": {
          "base_uri": "https://localhost:8080/"
        },
        "id": "XFK_CcIqUJ_h",
        "outputId": "f55e2eef-4ad2-4b4e-9b53-18d055d2b68e"
      },
      "execution_count": null,
      "outputs": [
        {
          "output_type": "stream",
          "name": "stdout",
          "text": [
            "                                                      2024-03-31  \\\n",
            "Ordinary Shares Number                             12484721471.0   \n",
            "Share Issued                                       12484721471.0   \n",
            "Total Debt                                          3034300000.0   \n",
            "Tangible Book Value                               710395200000.0   \n",
            "Invested Capital                                  745182800000.0   \n",
            "...                                                          ...   \n",
            "Cash Cash Equivalents And Short Term Investments  198931600000.0   \n",
            "Other Short Term Investments                      192672700000.0   \n",
            "Cash And Cash Equivalents                           6258900000.0   \n",
            "Cash Equivalents                                    1386600000.0   \n",
            "Cash Financial                                      4872300000.0   \n",
            "\n",
            "                                                      2023-03-31  \\\n",
            "Ordinary Shares Number                             12428017741.0   \n",
            "Share Issued                                       12428017741.0   \n",
            "Total Debt                                          3060400000.0   \n",
            "Tangible Book Value                               656296200000.0   \n",
            "Invested Capital                                  691940700000.0   \n",
            "...                                                          ...   \n",
            "Cash Cash Equivalents And Short Term Investments  218736200000.0   \n",
            "Other Short Term Investments                      214102700000.0   \n",
            "Cash And Cash Equivalents                           4633500000.0   \n",
            "Cash Equivalents                                      50800000.0   \n",
            "Cash Financial                                      4582700000.0   \n",
            "\n",
            "                                                      2022-03-31  \\\n",
            "Ordinary Shares Number                             12323255931.0   \n",
            "Share Issued                                       12323255931.0   \n",
            "Total Debt                                          2494400000.0   \n",
            "Tangible Book Value                               596356500000.0   \n",
            "Invested Capital                                  624611600000.0   \n",
            "...                                                          ...   \n",
            "Cash Cash Equivalents And Short Term Investments  166942100000.0   \n",
            "Other Short Term Investments                      164228400000.0   \n",
            "Cash And Cash Equivalents                           2713700000.0   \n",
            "Cash Equivalents                                      31200000.0   \n",
            "Cash Financial                                      2682500000.0   \n",
            "\n",
            "                                                      2021-03-31 2020-03-31  \n",
            "Ordinary Shares Number                             12308844231.0        NaN  \n",
            "Share Issued                                       12308844231.0        NaN  \n",
            "Total Debt                                          2711800000.0        NaN  \n",
            "Tangible Book Value                               575497100000.0        NaN  \n",
            "Invested Capital                                  603575000000.0        NaN  \n",
            "...                                                          ...        ...  \n",
            "Cash Cash Equivalents And Short Term Investments  192961200000.0        NaN  \n",
            "Other Short Term Investments                      190057000000.0        NaN  \n",
            "Cash And Cash Equivalents                           2904200000.0        NaN  \n",
            "Cash Equivalents                                     274700000.0        NaN  \n",
            "Cash Financial                                      2629500000.0        NaN  \n",
            "\n",
            "[85 rows x 5 columns]\n"
          ]
        }
      ]
    },
    {
      "cell_type": "markdown",
      "source": [
        "print cash flow statements of a stock"
      ],
      "metadata": {
        "id": "IcXtzmpeUZVZ"
      }
    },
    {
      "cell_type": "code",
      "source": [
        "print(df_funda.cashflow)"
      ],
      "metadata": {
        "colab": {
          "base_uri": "https://localhost:8080/"
        },
        "id": "oCUzJ0X_Ucmp",
        "outputId": "137014e0-835b-468b-fcb5-ceed412dd139"
      },
      "execution_count": null,
      "outputs": [
        {
          "output_type": "stream",
          "name": "stdout",
          "text": [
            "                                                 2024-03-31      2023-03-31  \\\n",
            "Free Cash Flow                               136163300000.0  161345600000.0   \n",
            "Repayment Of Debt                               -15700000.0      -7300000.0   \n",
            "Issuance Of Debt                                 80000000.0             0.0   \n",
            "Issuance Of Capital Stock                     14428300000.0   24773900000.0   \n",
            "Capital Expenditure                          -35625300000.0  -27429900000.0   \n",
            "End Cash Position                              5965800000.0    4059100000.0   \n",
            "Other Cash Adjustment Outside Changein Cash             NaN             NaN   \n",
            "Beginning Cash Position                        4059100000.0    2666800000.0   \n",
            "Changes In Cash                                1906700000.0    1392300000.0   \n",
            "Financing Cash Flow                         -185509600000.0 -130060300000.0   \n",
            "Net Other Financing Charges                     121200000.0     353700000.0   \n",
            "Interest Paid Cff                              -462500000.0    -414200000.0   \n",
            "Cash Dividends Paid                         -198992000000.0 -154175300000.0   \n",
            "Common Stock Dividend Paid                  -198992000000.0 -154175300000.0   \n",
            "Net Common Stock Issuance                     14428300000.0   24773900000.0   \n",
            "Common Stock Issuance                         14428300000.0   24773900000.0   \n",
            "Net Issuance Payments Of Debt                    64300000.0      -7300000.0   \n",
            "Net Short Term Debt Issuance                     80000000.0             0.0   \n",
            "Short Term Debt Payments                                NaN             NaN   \n",
            "Short Term Debt Issuance                         80000000.0             0.0   \n",
            "Net Long Term Debt Issuance                     -15700000.0      -7300000.0   \n",
            "Long Term Debt Payments                         -15700000.0      -7300000.0   \n",
            "Investing Cash Flow                           15627700000.0  -57322900000.0   \n",
            "Net Other Investing Changes                             NaN    -637500000.0   \n",
            "Interest Received Cfi                         11383500000.0   13237400000.0   \n",
            "Dividends Received Cfi                          356500000.0     185800000.0   \n",
            "Net Investment Purchase And Sale              39101200000.0  -43719400000.0   \n",
            "Sale Of Investment                           836295100000.0  889848400000.0   \n",
            "Purchase Of Investment                      -797193900000.0 -933567800000.0   \n",
            "Net Business Purchase And Sale                 -650400000.0     -96300000.0   \n",
            "Sale Of Business                                        0.0     560000000.0   \n",
            "Purchase Of Business                           -650400000.0    -656300000.0   \n",
            "Net PPE Purchase And Sale                    -34550500000.0  -26938200000.0   \n",
            "Sale Of PPE                                    1074800000.0     491700000.0   \n",
            "Purchase Of PPE                              -35625300000.0  -27429900000.0   \n",
            "Capital Expenditure Reported                            NaN             NaN   \n",
            "Operating Cash Flow                          171788600000.0  188775500000.0   \n",
            "Taxes Refund Paid                            -61195600000.0  -62502400000.0   \n",
            "Change In Working Capital                    -33370300000.0   -9241500000.0   \n",
            "Change In Payable                              1414800000.0   10579300000.0   \n",
            "Change In Inventory                          -25448700000.0  -10978700000.0   \n",
            "Change In Receivables                         -9336400000.0   -8842100000.0   \n",
            "Other Non Cash Items                         -16645500000.0  -14908000000.0   \n",
            "Stock Based Compensation                       1073000000.0     604100000.0   \n",
            "Provisionand Write Offof Assets                 246100000.0       7500000.0   \n",
            "Depreciation And Amortization                 18163900000.0   18090100000.0   \n",
            "Depreciation                                  18163900000.0   18090100000.0   \n",
            "Gain Loss On Investment Securities            -8513000000.0   -3939900000.0   \n",
            "Net Foreign Currency Exchange Gain Loss        -133800000.0     313700000.0   \n",
            "Gain Loss On Sale Of PPE                       -570400000.0      44000000.0   \n",
            "Gain Loss On Sale Of Business                   -98400000.0             0.0   \n",
            "Net Income From Continuing Operations        271398800000.0  259151200000.0   \n",
            "\n",
            "                                                 2022-03-31      2021-03-31  \\\n",
            "Free Cash Flow                               136338700000.0  106903300000.0   \n",
            "Repayment Of Debt                                -3500000.0     -22800000.0   \n",
            "Issuance Of Debt                                        NaN             NaN   \n",
            "Issuance Of Capital Stock                      2918200000.0    2906500000.0   \n",
            "Capital Expenditure                          -21416400000.0  -18366400000.0   \n",
            "End Cash Position                              2666800000.0    3101600000.0   \n",
            "Other Cash Adjustment Outside Changein Cash             NaN     570700000.0   \n",
            "Beginning Cash Position                        3101600000.0    6770400000.0   \n",
            "Changes In Cash                                -434800000.0   -4239500000.0   \n",
            "Financing Cash Flow                         -135805000000.0 -186338300000.0   \n",
            "Net Other Financing Charges                     149200000.0     551500000.0   \n",
            "Interest Paid Cff                              -395500000.0    -412300000.0   \n",
            "Cash Dividends Paid                         -137883200000.0 -188813900000.0   \n",
            "Common Stock Dividend Paid                  -137883200000.0 -188813900000.0   \n",
            "Net Common Stock Issuance                      2918200000.0    2906500000.0   \n",
            "Common Stock Issuance                          2918200000.0    2906500000.0   \n",
            "Net Issuance Payments Of Debt                    -3500000.0     -22800000.0   \n",
            "Net Short Term Debt Issuance                            NaN             NaN   \n",
            "Short Term Debt Payments                                NaN             NaN   \n",
            "Short Term Debt Issuance                                NaN             NaN   \n",
            "Net Long Term Debt Issuance                      -3500000.0     -22800000.0   \n",
            "Long Term Debt Payments                          -3500000.0     -22800000.0   \n",
            "Investing Cash Flow                          -22384900000.0   56829100000.0   \n",
            "Net Other Investing Changes                             NaN             NaN   \n",
            "Interest Received Cfi                         10345500000.0   12749200000.0   \n",
            "Dividends Received Cfi                          160700000.0      72500000.0   \n",
            "Net Investment Purchase And Sale             -12016100000.0   84217200000.0   \n",
            "Sale Of Investment                           761172200000.0  707452800000.0   \n",
            "Purchase Of Investment                      -773188300000.0 -623235600000.0   \n",
            "Net Business Purchase And Sale                 -731200000.0  -21910900000.0   \n",
            "Sale Of Business                                        0.0             NaN   \n",
            "Purchase Of Business                           -731200000.0  -21910900000.0   \n",
            "Net PPE Purchase And Sale                    -20085400000.0  -18341100000.0   \n",
            "Sale Of PPE                                    1331000000.0      25300000.0   \n",
            "Purchase Of PPE                              -21416400000.0  -18366400000.0   \n",
            "Capital Expenditure Reported                            NaN             NaN   \n",
            "Operating Cash Flow                          157755100000.0  125269700000.0   \n",
            "Taxes Refund Paid                            -49819500000.0  -43865300000.0   \n",
            "Change In Working Capital                      -995500000.0   -4129000000.0   \n",
            "Change In Payable                             10991100000.0   11124600000.0   \n",
            "Change In Inventory                           -4663700000.0  -14597800000.0   \n",
            "Change In Receivables                         -7322900000.0    -655800000.0   \n",
            "Other Non Cash Items                         -10432700000.0  -11653000000.0   \n",
            "Stock Based Compensation                        331700000.0     262700000.0   \n",
            "Provisionand Write Offof Assets                   9300000.0     334200000.0   \n",
            "Depreciation And Amortization                 17324100000.0   16455900000.0   \n",
            "Depreciation                                  17324100000.0   16455900000.0   \n",
            "Gain Loss On Investment Securities            -5390000000.0  -11440900000.0   \n",
            "Net Foreign Currency Exchange Gain Loss         -89800000.0     -64200000.0   \n",
            "Gain Loss On Sale Of PPE                       -562200000.0     546100000.0   \n",
            "Gain Loss On Sale Of Business                           NaN             NaN   \n",
            "Net Income From Continuing Operations        207404700000.0  179381700000.0   \n",
            "\n",
            "                                                2020-03-31  \n",
            "Free Cash Flow                                         NaN  \n",
            "Repayment Of Debt                                      NaN  \n",
            "Issuance Of Debt                                       NaN  \n",
            "Issuance Of Capital Stock                              NaN  \n",
            "Capital Expenditure                                    NaN  \n",
            "End Cash Position                                      NaN  \n",
            "Other Cash Adjustment Outside Changein Cash            NaN  \n",
            "Beginning Cash Position                                NaN  \n",
            "Changes In Cash                                        NaN  \n",
            "Financing Cash Flow                                    NaN  \n",
            "Net Other Financing Charges                            NaN  \n",
            "Interest Paid Cff                                      NaN  \n",
            "Cash Dividends Paid                                    NaN  \n",
            "Common Stock Dividend Paid                             NaN  \n",
            "Net Common Stock Issuance                              NaN  \n",
            "Common Stock Issuance                                  NaN  \n",
            "Net Issuance Payments Of Debt                          NaN  \n",
            "Net Short Term Debt Issuance                           0.0  \n",
            "Short Term Debt Payments                               0.0  \n",
            "Short Term Debt Issuance                               NaN  \n",
            "Net Long Term Debt Issuance                            NaN  \n",
            "Long Term Debt Payments                                NaN  \n",
            "Investing Cash Flow                                    NaN  \n",
            "Net Other Investing Changes                            NaN  \n",
            "Interest Received Cfi                                  NaN  \n",
            "Dividends Received Cfi                                 NaN  \n",
            "Net Investment Purchase And Sale                       NaN  \n",
            "Sale Of Investment                                     NaN  \n",
            "Purchase Of Investment                                 NaN  \n",
            "Net Business Purchase And Sale                         NaN  \n",
            "Sale Of Business                                       0.0  \n",
            "Purchase Of Business                                   NaN  \n",
            "Net PPE Purchase And Sale                              NaN  \n",
            "Sale Of PPE                                            NaN  \n",
            "Purchase Of PPE                                        NaN  \n",
            "Capital Expenditure Reported                -24411500000.0  \n",
            "Operating Cash Flow                                    NaN  \n",
            "Taxes Refund Paid                                      NaN  \n",
            "Change In Working Capital                              NaN  \n",
            "Change In Payable                                      NaN  \n",
            "Change In Inventory                                    NaN  \n",
            "Change In Receivables                                  NaN  \n",
            "Other Non Cash Items                                   NaN  \n",
            "Stock Based Compensation                               NaN  \n",
            "Provisionand Write Offof Assets                        NaN  \n",
            "Depreciation And Amortization                          NaN  \n",
            "Depreciation                                           NaN  \n",
            "Gain Loss On Investment Securities                     NaN  \n",
            "Net Foreign Currency Exchange Gain Loss                NaN  \n",
            "Gain Loss On Sale Of PPE                               NaN  \n",
            "Gain Loss On Sale Of Business                          0.0  \n",
            "Net Income From Continuing Operations                  NaN  \n"
          ]
        }
      ]
    },
    {
      "cell_type": "markdown",
      "source": [
        "print income statement of stock"
      ],
      "metadata": {
        "id": "5Km6HMXQUw9a"
      }
    },
    {
      "cell_type": "code",
      "source": [
        "print(df_funda.income_stmt)"
      ],
      "metadata": {
        "colab": {
          "base_uri": "https://localhost:8080/"
        },
        "id": "AHH2xgnIUvAq",
        "outputId": "f675825a-4f73-47ba-b0ee-be9620538d6c"
      },
      "execution_count": null,
      "outputs": [
        {
          "output_type": "stream",
          "name": "stdout",
          "text": [
            "                                                             2024-03-31  \\\n",
            "Tax Effect Of Unusual Items                           2093461821.496632   \n",
            "Tax Rate For Calcs                                             0.235392   \n",
            "Normalized EBITDA                                        281128800000.0   \n",
            "Total Unusual Items                                        8893500000.0   \n",
            "Total Unusual Items Excluding Goodwill                     8893500000.0   \n",
            "Net Income From Continuing Operation Net Minori...       204587800000.0   \n",
            "Reconciled Depreciation                                   18163900000.0   \n",
            "Reconciled Cost Of Revenue                               277003100000.0   \n",
            "EBITDA                                                   290022300000.0   \n",
            "EBIT                                                     271858400000.0   \n",
            "Net Interest Income                                       16304500000.0   \n",
            "Interest Expense                                            459600000.0   \n",
            "Interest Income                                           17105100000.0   \n",
            "Normalized Income                                   197787761821.496643   \n",
            "Net Income From Continuing And Discontinued Ope...       204587800000.0   \n",
            "Total Expenses                                           458972300000.0   \n",
            "Rent Expense Supplemental                                  3052900000.0   \n",
            "Diluted Average Shares                                    12489150656.0   \n",
            "Basic Average Shares                                      12461058425.0   \n",
            "Diluted EPS                                                       16.38   \n",
            "Basic EPS                                                         16.42   \n",
            "Diluted NI Availto Com Stockholders                      204587800000.0   \n",
            "Net Income Common Stockholders                           204587800000.0   \n",
            "Otherunder Preferred Stock Dividend                                 0.0   \n",
            "Net Income                                               204587800000.0   \n",
            "Minority Interests                                        -2925800000.0   \n",
            "Net Income Including Noncontrolling Interests            207513600000.0   \n",
            "Net Income Continuous Operations                         207513600000.0   \n",
            "Tax Provision                                             63885200000.0   \n",
            "Pretax Income                                            271398800000.0   \n",
            "Other Non Operating Income Expenses                        1552900000.0   \n",
            "Special Income Charges                                      560100000.0   \n",
            "Other Special Charges                                      -560700000.0   \n",
            "Write Off                                                      600000.0   \n",
            "Net Non Operating Interest Income Expense                 16304500000.0   \n",
            "Total Other Finance Cost                                    341000000.0   \n",
            "Interest Expense Non Operating                              459600000.0   \n",
            "Interest Income Non Operating                             17105100000.0   \n",
            "Operating Income                                         244182600000.0   \n",
            "Operating Expense                                        181969200000.0   \n",
            "Other Operating Expenses                                  77754500000.0   \n",
            "Depreciation And Amortization In Income Statement         18163900000.0   \n",
            "Depreciation Income Statement                             18163900000.0   \n",
            "Research And Development                                   2421500000.0   \n",
            "Selling General And Administration                        24888000000.0   \n",
            "Selling And Marketing Expense                             15462500000.0   \n",
            "General And Administrative Expense                         9425500000.0   \n",
            "Rent And Landing Fees                                      3052900000.0   \n",
            "Gross Profit                                             426151800000.0   \n",
            "Cost Of Revenue                                          277003100000.0   \n",
            "Total Revenue                                            703154900000.0   \n",
            "Operating Revenue                                        703154900000.0   \n",
            "\n",
            "                                                            2023-03-31  \\\n",
            "Tax Effect Of Unusual Items                           802467131.157409   \n",
            "Tax Rate For Calcs                                            0.248442   \n",
            "Normalized EBITDA                                       274443300000.0   \n",
            "Total Unusual Items                                       3230000000.0   \n",
            "Total Unusual Items Excluding Goodwill                    3230000000.0   \n",
            "Net Income From Continuing Operation Net Minori...      191916600000.0   \n",
            "Reconciled Depreciation                                  18090100000.0   \n",
            "Reconciled Cost Of Revenue                              294605200000.0   \n",
            "EBITDA                                                  277673300000.0   \n",
            "EBIT                                                    259583200000.0   \n",
            "Net Interest Income                                      14562300000.0   \n",
            "Interest Expense                                           432000000.0   \n",
            "Interest Income                                          15340000000.0   \n",
            "Normalized Income                                   189489067131.15741   \n",
            "Net Income From Continuing And Discontinued Ope...      191916600000.0   \n",
            "Total Expenses                                          463485200000.0   \n",
            "Rent Expense Supplemental                                 2664600000.0   \n",
            "Diluted Average Shares                                   12414327109.0   \n",
            "Basic Average Shares                                     12381512709.0   \n",
            "Diluted EPS                                                      15.46   \n",
            "Basic EPS                                                         15.5   \n",
            "Diluted NI Availto Com Stockholders                     191916600000.0   \n",
            "Net Income Common Stockholders                          191916600000.0   \n",
            "Otherunder Preferred Stock Dividend                                0.0   \n",
            "Net Income                                              191916600000.0   \n",
            "Minority Interests                                       -2850600000.0   \n",
            "Net Income Including Noncontrolling Interests           194767200000.0   \n",
            "Net Income Continuous Operations                        194767200000.0   \n",
            "Tax Provision                                            64384000000.0   \n",
            "Pretax Income                                           259151200000.0   \n",
            "Other Non Operating Income Expenses                       1531300000.0   \n",
            "Special Income Charges                                     652400000.0   \n",
            "Other Special Charges                                     -666600000.0   \n",
            "Write Off                                                   14200000.0   \n",
            "Net Non Operating Interest Income Expense                14562300000.0   \n",
            "Total Other Finance Cost                                   345700000.0   \n",
            "Interest Expense Non Operating                             432000000.0   \n",
            "Interest Income Non Operating                            15340000000.0   \n",
            "Operating Income                                        238967000000.0   \n",
            "Operating Expense                                       168880000000.0   \n",
            "Other Operating Expenses                                 74181700000.0   \n",
            "Depreciation And Amortization In Income Statement        18090100000.0   \n",
            "Depreciation Income Statement                            18090100000.0   \n",
            "Research And Development                                  2047200000.0   \n",
            "Selling General And Administration                       21450500000.0   \n",
            "Selling And Marketing Expense                            12710100000.0   \n",
            "General And Administrative Expense                        8740400000.0   \n",
            "Rent And Landing Fees                                     2664600000.0   \n",
            "Gross Profit                                            407847000000.0   \n",
            "Cost Of Revenue                                         294605200000.0   \n",
            "Total Revenue                                           702452200000.0   \n",
            "Operating Revenue                                       702452200000.0   \n",
            "\n",
            "                                                             2022-03-31  \\\n",
            "Tax Effect Of Unusual Items                           1569449273.232477   \n",
            "Tax Rate For Calcs                                             0.252518   \n",
            "Normalized EBITDA                                        218907200000.0   \n",
            "Total Unusual Items                                        6215200000.0   \n",
            "Total Unusual Items Excluding Goodwill                     6215200000.0   \n",
            "Net Income From Continuing Operation Net Minori...       152426600000.0   \n",
            "Reconciled Depreciation                                   17324100000.0   \n",
            "Reconciled Cost Of Revenue                               267464400000.0   \n",
            "EBITDA                                                   225122400000.0   \n",
            "EBIT                                                     207798300000.0   \n",
            "Net Interest Income                                       10226400000.0   \n",
            "Interest Expense                                            393600000.0   \n",
            "Interest Income                                           10826300000.0   \n",
            "Normalized Income                                   147780849273.232483   \n",
            "Net Income From Continuing And Discontinued Ope...       152426600000.0   \n",
            "Total Expenses                                           411859100000.0   \n",
            "Rent Expense Supplemental                                  2137700000.0   \n",
            "Diluted Average Shares                                    12322019118.0   \n",
            "Basic Average Shares                                      12316571748.0   \n",
            "Diluted EPS                                                       12.37   \n",
            "Basic EPS                                                         12.37   \n",
            "Diluted NI Availto Com Stockholders                      152426600000.0   \n",
            "Net Income Common Stockholders                           152426600000.0   \n",
            "Otherunder Preferred Stock Dividend                                 0.0   \n",
            "Net Income                                               152426600000.0   \n",
            "Minority Interests                                        -2604700000.0   \n",
            "Net Income Including Noncontrolling Interests            155031300000.0   \n",
            "Net Income Continuous Operations                         155031300000.0   \n",
            "Tax Provision                                             52373400000.0   \n",
            "Pretax Income                                            207404700000.0   \n",
            "Other Non Operating Income Expenses                        1311600000.0   \n",
            "Special Income Charges                                      511800000.0   \n",
            "Other Special Charges                                      -511800000.0   \n",
            "Write Off                                                           0.0   \n",
            "Net Non Operating Interest Income Expense                 10226400000.0   \n",
            "Total Other Finance Cost                                    206300000.0   \n",
            "Interest Expense Non Operating                              393600000.0   \n",
            "Interest Income Non Operating                             10826300000.0   \n",
            "Operating Income                                         188954500000.0   \n",
            "Operating Expense                                        144394700000.0   \n",
            "Other Operating Expenses                                  62242100000.0   \n",
            "Depreciation And Amortization In Income Statement         17324100000.0   \n",
            "Depreciation Income Statement                             17324100000.0   \n",
            "Research And Development                                   1992400000.0   \n",
            "Selling General And Administration                        17660200000.0   \n",
            "Selling And Marketing Expense                             10677000000.0   \n",
            "General And Administrative Expense                         6983200000.0   \n",
            "Rent And Landing Fees                                      2137700000.0   \n",
            "Gross Profit                                             333349200000.0   \n",
            "Cost Of Revenue                                          267464400000.0   \n",
            "Total Revenue                                            600813600000.0   \n",
            "Operating Revenue                                        600813600000.0   \n",
            "\n",
            "                                                             2021-03-31  \n",
            "Tax Effect Of Unusual Items                           2905550654.999925  \n",
            "Tax Rate For Calcs                                             0.253944  \n",
            "Normalized EBITDA                                        184841700000.0  \n",
            "Total Unusual Items                                       11441700000.0  \n",
            "Total Unusual Items Excluding Goodwill                    11441700000.0  \n",
            "Net Income From Continuing Operation Net Minori...       131611900000.0  \n",
            "Reconciled Depreciation                                   16455900000.0  \n",
            "Reconciled Cost Of Revenue                               204051500000.0  \n",
            "EBITDA                                                   196283400000.0  \n",
            "EBIT                                                     179827500000.0  \n",
            "Net Interest Income                                       12399400000.0  \n",
            "Interest Expense                                            445800000.0  \n",
            "Interest Income                                           12979100000.0  \n",
            "Normalized Income                                   123075750654.999924  \n",
            "Net Income From Continuing And Discontinued Ope...       131611900000.0  \n",
            "Total Expenses                                           335216700000.0  \n",
            "Rent Expense Supplemental                                  2328500000.0  \n",
            "Diluted Average Shares                                    12302481408.0  \n",
            "Basic Average Shares                                      12301207984.0  \n",
            "Diluted EPS                                                        10.7  \n",
            "Basic EPS                                                          10.7  \n",
            "Diluted NI Availto Com Stockholders                      131611900000.0  \n",
            "Net Income Common Stockholders                           131611900000.0  \n",
            "Otherunder Preferred Stock Dividend                                 0.0  \n",
            "Net Income                                               131611900000.0  \n",
            "Minority Interests                                        -2216900000.0  \n",
            "Net Income Including Noncontrolling Interests            133828800000.0  \n",
            "Net Income Continuous Operations                         133828800000.0  \n",
            "Tax Provision                                             45552900000.0  \n",
            "Pretax Income                                            179381700000.0  \n",
            "Other Non Operating Income Expenses                        1309300000.0  \n",
            "Special Income Charges                                     -559700000.0  \n",
            "Other Special Charges                                       606400000.0  \n",
            "Write Off                                                   -46700000.0  \n",
            "Net Non Operating Interest Income Expense                 12399400000.0  \n",
            "Total Other Finance Cost                                    133900000.0  \n",
            "Interest Expense Non Operating                              445800000.0  \n",
            "Interest Income Non Operating                             12979100000.0  \n",
            "Operating Income                                         154311400000.0  \n",
            "Operating Expense                                        131165200000.0  \n",
            "Other Operating Expenses                                  52189600000.0  \n",
            "Depreciation And Amortization In Income Statement         16455900000.0  \n",
            "Depreciation Income Statement                             16455900000.0  \n",
            "Research And Development                                   1684700000.0  \n",
            "Selling General And Administration                        17072900000.0  \n",
            "Selling And Marketing Expense                             11366200000.0  \n",
            "General And Administrative Expense                         5706700000.0  \n",
            "Rent And Landing Fees                                      2328500000.0  \n",
            "Gross Profit                                             285476600000.0  \n",
            "Cost Of Revenue                                          204051500000.0  \n",
            "Total Revenue                                            489528100000.0  \n",
            "Operating Revenue                                        489528100000.0  \n"
          ]
        }
      ]
    },
    {
      "cell_type": "markdown",
      "source": [
        "print main news of stock"
      ],
      "metadata": {
        "id": "NLcyRtNpVXlq"
      }
    },
    {
      "cell_type": "code",
      "source": [
        "for item in df_funda.news:\n",
        "  print (item['content']['title'])"
      ],
      "metadata": {
        "colab": {
          "base_uri": "https://localhost:8080/"
        },
        "id": "GaKNoPU5VaQ6",
        "outputId": "1678c695-404f-4210-f13c-29a628061b5b"
      },
      "execution_count": null,
      "outputs": [
        {
          "output_type": "stream",
          "name": "stdout",
          "text": [
            "ITC announces effective date for its hotel business demerger\n",
            "ITC to acquire stake in EIH and HLV from Russell Credit\n",
            "3 High Yield Dividend Stocks In India With Yields Up To 4.1%\n",
            "Avoid Triveni Engineering & Industries And Explore One Better Dividend Stock Option\n",
            "Three Top Dividend Stocks In India Offering Up To 3.7% Yield\n",
            "Exploring ITC And Two More Leading Dividend Stocks In India\n",
            "Accelya Solutions India And Two More High Yield Dividend Stocks\n",
            "Accelya Solutions India Leads Three Prime Dividend Stocks\n",
            "The Bottom May Be in for British American Tobacco\n",
            "25 Most Impoverished Countries in Asia\n"
          ]
        }
      ]
    },
    {
      "cell_type": "markdown",
      "source": [
        "display dividends and stock splits individually"
      ],
      "metadata": {
        "id": "lQTDn7QFaw3s"
      }
    },
    {
      "cell_type": "code",
      "source": [
        "print(df_funda.actions[df_funda.actions['Dividends']>0]['Dividends'])\n",
        "print(df_funda.actions[df_funda.actions['Stock Splits']>0]['Stock Splits'])\n"
      ],
      "metadata": {
        "colab": {
          "base_uri": "https://localhost:8080/"
        },
        "id": "ZDHppZuoZjQT",
        "outputId": "44c6455e-69e1-488f-c769-af1da225e8d4"
      },
      "execution_count": null,
      "outputs": [
        {
          "output_type": "stream",
          "name": "stdout",
          "text": [
            "Date\n",
            "1996-07-08 00:00:00+05:30     0.055556\n",
            "1997-08-04 00:00:00+05:30     0.022222\n",
            "1998-06-22 00:00:00+05:30     0.100000\n",
            "1999-06-24 00:00:00+05:30     0.122222\n",
            "2000-06-27 00:00:00+05:30     0.166667\n",
            "2001-07-03 00:00:00+05:30     0.222222\n",
            "2002-07-12 00:00:00+05:30     0.300000\n",
            "2003-07-14 00:00:00+05:30     0.333333\n",
            "2004-07-19 00:00:00+05:30     0.444444\n",
            "2005-07-18 00:00:00+05:30     0.688889\n",
            "2006-07-10 00:00:00+05:30     0.883333\n",
            "2007-07-16 00:00:00+05:30     1.033333\n",
            "2008-07-16 00:00:00+05:30     1.166667\n",
            "2009-07-13 00:00:00+05:30     1.233333\n",
            "2010-06-09 00:00:00+05:30     1.833333\n",
            "2011-06-10 00:00:00+05:30     1.100000\n",
            "2012-06-11 00:00:00+05:30     3.000000\n",
            "2013-05-31 00:00:00+05:30     3.500000\n",
            "2014-06-03 00:00:00+05:30     4.000000\n",
            "2015-06-03 00:00:00+05:30     4.166667\n",
            "2016-05-30 00:00:00+05:30     1.333333\n",
            "2017-06-05 00:00:00+05:30     4.750000\n",
            "2018-05-25 00:00:00+05:30     5.150000\n",
            "2019-05-22 00:00:00+05:30     5.750000\n",
            "2020-07-06 00:00:00+05:30    10.150000\n",
            "2021-02-22 00:00:00+05:30     5.000000\n",
            "2021-06-10 00:00:00+05:30     5.750000\n",
            "2022-02-14 00:00:00+05:30     5.250000\n",
            "2022-05-26 00:00:00+05:30     6.250000\n",
            "2023-02-15 00:00:00+05:30     6.000000\n",
            "2023-05-30 00:00:00+05:30     2.750000\n",
            "2024-02-08 00:00:00+05:30     6.250000\n",
            "2024-06-04 00:00:00+05:30     7.500000\n",
            "Name: Dividends, dtype: float64\n",
            "Date\n",
            "2005-09-21 00:00:00+05:30    10.0\n",
            "2010-08-03 00:00:00+05:30     2.0\n",
            "2016-07-01 00:00:00+05:30     1.5\n",
            "Name: Stock Splits, dtype: float64\n"
          ]
        }
      ]
    }
  ]
}