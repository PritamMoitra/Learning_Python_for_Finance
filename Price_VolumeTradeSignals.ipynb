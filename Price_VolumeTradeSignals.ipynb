{
  "cells": [
    {
      "cell_type": "markdown",
      "metadata": {
        "id": "view-in-github",
        "colab_type": "text"
      },
      "source": [
        "<a href=\"https://colab.research.google.com/github/PritamMoitra/Learning_Python_for_Finance/blob/main/Price_VolumeTradeSignals.ipynb\" target=\"_parent\"><img src=\"https://colab.research.google.com/assets/colab-badge.svg\" alt=\"Open In Colab\"/></a>"
      ]
    },
    {
      "cell_type": "code",
      "execution_count": null,
      "metadata": {
        "id": "t6LhyDkbztag"
      },
      "outputs": [],
      "source": [
        "import pandas as pd\n",
        "import numpy as np\n",
        "import yfinance as yf\n",
        "import matplotlib.pyplot as plt\n",
        "import os"
      ]
    },
    {
      "cell_type": "code",
      "execution_count": null,
      "metadata": {
        "id": "YT3t3QIb3dP9"
      },
      "outputs": [],
      "source": [
        "symbols = ['SAIL.NS']\n",
        "start_date = '2025-06-10'\n",
        "end_date = '2025-06-11'\n",
        "sma_period = 20\n",
        "vwma_period = 20\n",
        "initial_capital = 50000\n",
        "inte='5m'"
      ]
    },
    {
      "cell_type": "code",
      "execution_count": null,
      "metadata": {
        "id": "OAO3v_nu-H9g"
      },
      "outputs": [],
      "source": [
        "# Output directory for CSVs (optional)\n",
        "output_dir = \"trading_signals\"\n",
        "os.makedirs(output_dir, exist_ok=True)"
      ]
    },
    {
      "cell_type": "code",
      "execution_count": null,
      "metadata": {
        "id": "F8vkw0kJ-SJg"
      },
      "outputs": [],
      "source": [
        "def fetch_data(symbol, start_date, end_date,inte):\n",
        "    return yf.download(symbol, start=start_date, end=end_date,interval=inte)"
      ]
    },
    {
      "cell_type": "code",
      "execution_count": null,
      "metadata": {
        "id": "e9e2DUpK-Vsu"
      },
      "outputs": [],
      "source": [
        "def compute_indicators(df, sma_period, vwma_period):\n",
        "    df['SMA'] = df['Close'].rolling(window=sma_period).mean()\n",
        "\n",
        "    pv = df['Close'] * df['Volume']\n",
        "    vwma = pv.rolling(window=vwma_period).sum() / df['Volume'].rolling(window=vwma_period).sum()\n",
        "    df['VWMA'] = vwma\n",
        "\n",
        "    return df"
      ]
    },
    {
      "cell_type": "code",
      "execution_count": null,
      "metadata": {
        "id": "lRcUshWS-YpK"
      },
      "outputs": [],
      "source": [
        "# Signal generation function\n",
        "def generate_signals(df, vwma_period=20):\n",
        "    df = df.copy()  # Avoid modifying original\n",
        "    df.dropna(subset=['Close', 'Volume'], inplace=True)  # Ensure both have valid data\n",
        "\n",
        "    df['SMA'] = df['Close'].rolling(window=vwma_period).mean()\n",
        "\n",
        "    price_volume = df['Close'] * df['Volume']\n",
        "    vwma_numerator = price_volume.rolling(window=vwma_period).sum()\n",
        "    vwma_denominator = df['Volume'].rolling(window=vwma_period).sum()\n",
        "\n",
        "    df['VWMA'] = vwma_numerator / vwma_denominator\n",
        "\n",
        "    df['Signal'] = 0\n",
        "    df.loc[df['Close'] > df['VWMA'], 'Signal'] = 1\n",
        "    df.loc[df['Close'] < df['VWMA'], 'Signal'] = -1\n",
        "    df['Position'] = df['Signal'].diff()\n",
        "\n",
        "    return df"
      ]
    },
    {
      "cell_type": "code",
      "execution_count": null,
      "metadata": {
        "id": "DhoSOab5-fIs"
      },
      "outputs": [],
      "source": [
        "def plot_cumulative_returns(df, symbol):\n",
        "    plt.figure(figsize=(14,6))\n",
        "    plt.plot(df['Cumulative Market Return'], label='Market Return', linestyle='--')\n",
        "    plt.plot(df['Cumulative Strategy Return'], label='Strategy Return')\n",
        "    plt.title(f\"{symbol} Strategy vs Market Returns\")\n",
        "    plt.legend()\n",
        "    plt.grid(True)\n",
        "    plt.tight_layout()\n",
        "    plt.savefig(os.path.join(output_dir, f\"{symbol}_returns.png\"))\n",
        "    plt.close()"
      ]
    },
    {
      "cell_type": "code",
      "execution_count": null,
      "metadata": {
        "id": "oyHMD2IJ-kZZ"
      },
      "outputs": [],
      "source": [
        "# Plotting functions\n",
        "def plot_signals(df, symbol):\n",
        "    plt.figure(figsize=(14,6))\n",
        "    plt.plot(df['Close'], label='Close Price', alpha=0.5)\n",
        "    plt.plot(df['SMA'], label='SMA', linestyle='--')\n",
        "    plt.plot(df['VWMA'], label='VWMA', linestyle='--')\n",
        "    buy_signals = df[df['Position'] == 2]\n",
        "    sell_signals = df[df['Position'] == -2]\n",
        "    plt.scatter(buy_signals.index, buy_signals['Close'], marker='^', color='green', label='Buy Signal', alpha=1)\n",
        "    plt.scatter(sell_signals.index, sell_signals['Close'], marker='v', color='red', label='Sell Signal', alpha=1)\n",
        "    plt.title(f\"{symbol} Price with Buy/Sell Signals\")\n",
        "    plt.legend()\n",
        "    plt.grid(True)\n",
        "    plt.tight_layout()\n",
        "    plt.savefig(os.path.join(output_dir, f\"{symbol}_signals.png\"))\n",
        "    plt.close()"
      ]
    },
    {
      "cell_type": "code",
      "execution_count": null,
      "metadata": {
        "id": "eQk3WAAE-gvu"
      },
      "outputs": [],
      "source": [
        "# Return computation\n",
        "def compute_simple_returns(df):\n",
        "    df['Market Return'] = df['Close'].pct_change()\n",
        "    df['Strategy Return'] = df['Market Return'] * df['Signal'].shift(1)\n",
        "    df['Cumulative Market Return'] = (1 + df['Market Return']).cumprod()\n",
        "    df['Cumulative Strategy Return'] = (1 + df['Strategy Return']).cumprod()\n",
        "    return df"
      ]
    },
    {
      "cell_type": "code",
      "execution_count": null,
      "metadata": {
        "id": "9kiy3FbYHY5Q"
      },
      "outputs": [],
      "source": [
        "# Trade log function\n",
        "def generate_trading_log(df, symbol, starting_capital=50000):\n",
        "    if 'Position' not in df.columns or df.empty:\n",
        "        return pd.DataFrame(), starting_capital\n",
        "\n",
        "    capital = starting_capital\n",
        "    position = 0\n",
        "    entry_price = 0\n",
        "    log = []\n",
        "\n",
        "    for date, row in df.iterrows():\n",
        "        signal = row['Position']\n",
        "        price = row['Close']\n",
        "\n",
        "        if signal == 2 and position == 0:\n",
        "            entry_price = price\n",
        "            position = 1\n",
        "            log.append({'Date': date, 'Symbol': symbol, 'Action': 'BUY',\n",
        "                        'Price': round(price, 2), 'Capital Before': round(capital, 2),\n",
        "                        'Capital After': round(capital, 2)})\n",
        "        elif signal == -2 and position == 1:\n",
        "            profit = price - entry_price\n",
        "            capital += profit\n",
        "            position = 0\n",
        "            log.append({'Date': date, 'Symbol': symbol, 'Action': 'SELL',\n",
        "                        'Price': round(price, 2), 'Capital Before': round(capital - profit, 2),\n",
        "                        'Capital After': round(capital, 2)})\n",
        "\n",
        "    return pd.DataFrame(log), capital"
      ]
    },
    {
      "cell_type": "code",
      "execution_count": null,
      "metadata": {
        "colab": {
          "base_uri": "https://localhost:8080/"
        },
        "id": "EorOOGPO-sZC",
        "outputId": "58451704-c9b7-4a62-da75-e080cbcfb0f2"
      },
      "outputs": [
        {
          "output_type": "stream",
          "name": "stdout",
          "text": [
            "\n",
            "Processing: SAIL.NS\n",
            "YF.download() has changed argument auto_adjust default to True\n"
          ]
        },
        {
          "output_type": "stream",
          "name": "stderr",
          "text": [
            "\r[*********************100%***********************]  1 of 1 completed\n"
          ]
        },
        {
          "output_type": "stream",
          "name": "stdout",
          "text": [
            "Price                           Close        High         Low        Open  \\\n",
            "Datetime                                                                    \n",
            "2025-06-10 03:45:00+00:00  134.270004  134.630005  134.149994  134.210007   \n",
            "\n",
            "Price                      Volume  \n",
            "Datetime                           \n",
            "2025-06-10 03:45:00+00:00       0  \n",
            "Saved trade log for SAIL.NS\n",
            "[                       Date   Symbol Action   Price  Capital Before  \\\n",
            "0 2025-06-10 08:35:00+00:00  SAIL.NS    BUY  133.11        50000.00   \n",
            "1 2025-06-10 08:45:00+00:00  SAIL.NS   SELL  132.87        50000.00   \n",
            "2 2025-06-10 09:05:00+00:00  SAIL.NS    BUY  133.10        49999.76   \n",
            "3 2025-06-10 09:15:00+00:00  SAIL.NS   SELL  133.00        49999.76   \n",
            "4 2025-06-10 09:35:00+00:00  SAIL.NS    BUY  133.02        49999.66   \n",
            "5 2025-06-10 09:55:00+00:00  SAIL.NS   SELL  132.81        49999.66   \n",
            "\n",
            "   Capital After  \n",
            "0       50000.00  \n",
            "1       49999.76  \n",
            "2       49999.76  \n",
            "3       49999.66  \n",
            "4       49999.66  \n",
            "5       49999.45  ]\n"
          ]
        }
      ],
      "source": [
        "# --------------------------------------------------------\n",
        "# MAIN LOOP\n",
        "# --------------------------------------------------------\n",
        "\n",
        "final_capital = initial_capital\n",
        "all_logs = []\n",
        "\n",
        "required_columns = {'Close', 'Volume'}\n",
        "\n",
        "for symbol in symbols:\n",
        "    print(f\"\\nProcessing: {symbol}\")\n",
        "    df = fetch_data(symbol, start_date, end_date,inte)\n",
        "    if isinstance(df.columns, pd.MultiIndex):\n",
        "      try:\n",
        "        df = df.xs(symbol, level=1, axis=1)\n",
        "      except Exception as e:\n",
        "        print(f\"Failed to extract data for {symbol}: {e}\")\n",
        "        continue\n",
        "    print(df.head(1))\n",
        "    df = compute_indicators(df, sma_period, vwma_period)\n",
        "\n",
        "    if df.empty or not required_columns.issubset(df.columns):\n",
        "        print(f\"Skipping {symbol} — missing data columns or no data.\")\n",
        "        continue\n",
        "\n",
        "    df = generate_signals(df, vwma_period)\n",
        "    num_signals = df['Position'].abs().sum()\n",
        "\n",
        "    if num_signals == 0:\n",
        "        print(f\"Skipping {symbol} — no signals generated.\")\n",
        "        continue\n",
        "\n",
        "    df = compute_simple_returns(df)\n",
        "    plot_signals(df, symbol)\n",
        "    plot_cumulative_returns(df, symbol)\n",
        "\n",
        "    trade_log, final_capital = generate_trading_log(df, symbol, final_capital)\n",
        "\n",
        "    if not trade_log.empty:\n",
        "        all_logs.append(trade_log)\n",
        "        trade_log.to_csv(os.path.join(output_dir, f\"{symbol}_trade_log.csv\"), index=False)\n",
        "        print(f\"Saved trade log for {symbol}\")\n",
        "\n",
        "print(all_logs)"
      ]
    },
    {
      "cell_type": "code",
      "execution_count": null,
      "metadata": {
        "id": "Z18ZjH8fQadG"
      },
      "outputs": [],
      "source": []
    }
  ],
  "metadata": {
    "colab": {
      "provenance": [],
      "authorship_tag": "ABX9TyPcPzMMuGE8q1ftaFfi8Teu",
      "include_colab_link": true
    },
    "kernelspec": {
      "display_name": "Python 3",
      "name": "python3"
    },
    "language_info": {
      "name": "python"
    }
  },
  "nbformat": 4,
  "nbformat_minor": 0
}